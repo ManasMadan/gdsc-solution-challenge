{
 "cells": [
  {
   "cell_type": "code",
   "execution_count": null,
   "id": "7f07c8ef",
   "metadata": {},
   "outputs": [],
   "source": [
    "# This Notebook was authored by Tanish Saxena\n",
    "# Github - https://github.com/tanxena\n",
    "# Kaggle - https://www.kaggle.com/tanxena\n",
    "# Linkedin - https://www.linkedin.com/in/tanxena/"
   ]
  },
  {
   "cell_type": "code",
   "execution_count": 1,
   "id": "93b43785",
   "metadata": {
    "execution": {
     "iopub.execute_input": "2024-01-17T22:58:14.175170Z",
     "iopub.status.busy": "2024-01-17T22:58:14.174737Z",
     "iopub.status.idle": "2024-01-17T22:58:16.039855Z",
     "shell.execute_reply": "2024-01-17T22:58:16.038459Z"
    },
    "id": "NWD9wAxO-EZz",
    "papermill": {
     "duration": 1.886274,
     "end_time": "2024-01-17T22:58:16.042810",
     "exception": false,
     "start_time": "2024-01-17T22:58:14.156536",
     "status": "completed"
    },
    "tags": []
   },
   "outputs": [],
   "source": [
    "import datetime as dt\n",
    "import pandas as pd\n",
    "import numpy as np\n",
    "import seaborn as sns\n",
    "import matplotlib.pyplot as plt\n",
    "%matplotlib inline \n",
    "\n",
    "pd.set_option('display.max_columns', None)"
   ]
  },
  {
   "cell_type": "markdown",
   "id": "5948727e",
   "metadata": {
    "papermill": {
     "duration": 0.017414,
     "end_time": "2024-01-17T22:58:16.076972",
     "exception": false,
     "start_time": "2024-01-17T22:58:16.059558",
     "status": "completed"
    },
    "tags": []
   },
   "source": [
    "## Reading dataset (.csv)"
   ]
  },
  {
   "cell_type": "code",
   "execution_count": 2,
   "id": "b7c43329",
   "metadata": {
    "execution": {
     "iopub.execute_input": "2024-01-17T22:58:16.111149Z",
     "iopub.status.busy": "2024-01-17T22:58:16.110571Z",
     "iopub.status.idle": "2024-01-17T22:58:16.294380Z",
     "shell.execute_reply": "2024-01-17T22:58:16.293354Z"
    },
    "executionInfo": {
     "elapsed": 651,
     "status": "ok",
     "timestamp": 1624466626401,
     "user": {
      "displayName": "siddharth patra",
      "photoUrl": "https://lh3.googleusercontent.com/a-/AOh14Gjnwsdj5DKa95WHRl25dlQz9L1Bbc10vap4xTNIiA=s64",
      "userId": "01966341811263607507"
     },
     "user_tz": -330
    },
    "id": "ZK5KeZCT-TXm",
    "outputId": "30acc1f1-e3db-4d90-9578-ee1ef12a7b1a",
    "papermill": {
     "duration": 0.203503,
     "end_time": "2024-01-17T22:58:16.296722",
     "exception": false,
     "start_time": "2024-01-17T22:58:16.093219",
     "status": "completed"
    },
    "tags": []
   },
   "outputs": [
    {
     "data": {
      "text/html": [
       "<div>\n",
       "<style scoped>\n",
       "    .dataframe tbody tr th:only-of-type {\n",
       "        vertical-align: middle;\n",
       "    }\n",
       "\n",
       "    .dataframe tbody tr th {\n",
       "        vertical-align: top;\n",
       "    }\n",
       "\n",
       "    .dataframe thead th {\n",
       "        text-align: right;\n",
       "    }\n",
       "</style>\n",
       "<table border=\"1\" class=\"dataframe\">\n",
       "  <thead>\n",
       "    <tr style=\"text-align: right;\">\n",
       "      <th></th>\n",
       "      <th>latitude</th>\n",
       "      <th>longitude</th>\n",
       "      <th>brightness</th>\n",
       "      <th>scan</th>\n",
       "      <th>track</th>\n",
       "      <th>acq_date</th>\n",
       "      <th>acq_time</th>\n",
       "      <th>satellite</th>\n",
       "      <th>instrument</th>\n",
       "      <th>confidence</th>\n",
       "      <th>version</th>\n",
       "      <th>bright_t31</th>\n",
       "      <th>frp</th>\n",
       "      <th>daynight</th>\n",
       "      <th>type</th>\n",
       "    </tr>\n",
       "  </thead>\n",
       "  <tbody>\n",
       "    <tr>\n",
       "      <th>0</th>\n",
       "      <td>-11.8070</td>\n",
       "      <td>142.0583</td>\n",
       "      <td>313.0</td>\n",
       "      <td>1.0</td>\n",
       "      <td>1.0</td>\n",
       "      <td>2019-08-01</td>\n",
       "      <td>56</td>\n",
       "      <td>Terra</td>\n",
       "      <td>MODIS</td>\n",
       "      <td>48</td>\n",
       "      <td>6.3</td>\n",
       "      <td>297.3</td>\n",
       "      <td>6.6</td>\n",
       "      <td>D</td>\n",
       "      <td>0</td>\n",
       "    </tr>\n",
       "    <tr>\n",
       "      <th>1</th>\n",
       "      <td>-11.7924</td>\n",
       "      <td>142.0850</td>\n",
       "      <td>319.3</td>\n",
       "      <td>1.0</td>\n",
       "      <td>1.0</td>\n",
       "      <td>2019-08-01</td>\n",
       "      <td>56</td>\n",
       "      <td>Terra</td>\n",
       "      <td>MODIS</td>\n",
       "      <td>71</td>\n",
       "      <td>6.3</td>\n",
       "      <td>297.3</td>\n",
       "      <td>11.3</td>\n",
       "      <td>D</td>\n",
       "      <td>0</td>\n",
       "    </tr>\n",
       "    <tr>\n",
       "      <th>2</th>\n",
       "      <td>-12.8398</td>\n",
       "      <td>132.8744</td>\n",
       "      <td>311.6</td>\n",
       "      <td>3.1</td>\n",
       "      <td>1.7</td>\n",
       "      <td>2019-08-01</td>\n",
       "      <td>57</td>\n",
       "      <td>Terra</td>\n",
       "      <td>MODIS</td>\n",
       "      <td>42</td>\n",
       "      <td>6.3</td>\n",
       "      <td>298.7</td>\n",
       "      <td>23.1</td>\n",
       "      <td>D</td>\n",
       "      <td>0</td>\n",
       "    </tr>\n",
       "    <tr>\n",
       "      <th>3</th>\n",
       "      <td>-14.4306</td>\n",
       "      <td>143.3035</td>\n",
       "      <td>310.1</td>\n",
       "      <td>1.1</td>\n",
       "      <td>1.1</td>\n",
       "      <td>2019-08-01</td>\n",
       "      <td>57</td>\n",
       "      <td>Terra</td>\n",
       "      <td>MODIS</td>\n",
       "      <td>33</td>\n",
       "      <td>6.3</td>\n",
       "      <td>296.1</td>\n",
       "      <td>6.5</td>\n",
       "      <td>D</td>\n",
       "      <td>0</td>\n",
       "    </tr>\n",
       "    <tr>\n",
       "      <th>4</th>\n",
       "      <td>-12.4953</td>\n",
       "      <td>131.4897</td>\n",
       "      <td>310.3</td>\n",
       "      <td>4.0</td>\n",
       "      <td>1.9</td>\n",
       "      <td>2019-08-01</td>\n",
       "      <td>57</td>\n",
       "      <td>Terra</td>\n",
       "      <td>MODIS</td>\n",
       "      <td>36</td>\n",
       "      <td>6.3</td>\n",
       "      <td>298.8</td>\n",
       "      <td>27.6</td>\n",
       "      <td>D</td>\n",
       "      <td>0</td>\n",
       "    </tr>\n",
       "  </tbody>\n",
       "</table>\n",
       "</div>"
      ],
      "text/plain": [
       "   latitude  longitude  brightness  scan  track    acq_date  acq_time  \\\n",
       "0  -11.8070   142.0583       313.0   1.0    1.0  2019-08-01        56   \n",
       "1  -11.7924   142.0850       319.3   1.0    1.0  2019-08-01        56   \n",
       "2  -12.8398   132.8744       311.6   3.1    1.7  2019-08-01        57   \n",
       "3  -14.4306   143.3035       310.1   1.1    1.1  2019-08-01        57   \n",
       "4  -12.4953   131.4897       310.3   4.0    1.9  2019-08-01        57   \n",
       "\n",
       "  satellite instrument  confidence  version  bright_t31   frp daynight  type  \n",
       "0     Terra      MODIS          48      6.3       297.3   6.6        D     0  \n",
       "1     Terra      MODIS          71      6.3       297.3  11.3        D     0  \n",
       "2     Terra      MODIS          42      6.3       298.7  23.1        D     0  \n",
       "3     Terra      MODIS          33      6.3       296.1   6.5        D     0  \n",
       "4     Terra      MODIS          36      6.3       298.8  27.6        D     0  "
      ]
     },
     "execution_count": 2,
     "metadata": {},
     "output_type": "execute_result"
    }
   ],
   "source": [
    "forest = pd.read_csv('/kaggle/input/fires-from-space-australia-and-new-zeland/fire_archive_M6_96619.csv')\n",
    "forest.head()"
   ]
  },
  {
   "cell_type": "markdown",
   "id": "20bfb25a",
   "metadata": {
    "papermill": {
     "duration": 0.01611,
     "end_time": "2024-01-17T22:58:16.329472",
     "exception": false,
     "start_time": "2024-01-17T22:58:16.313362",
     "status": "completed"
    },
    "tags": []
   },
   "source": [
    "## Data exploration"
   ]
  },
  {
   "cell_type": "code",
   "execution_count": 3,
   "id": "bbbff45b",
   "metadata": {
    "execution": {
     "iopub.execute_input": "2024-01-17T22:58:16.365210Z",
     "iopub.status.busy": "2024-01-17T22:58:16.364565Z",
     "iopub.status.idle": "2024-01-17T22:58:16.369141Z",
     "shell.execute_reply": "2024-01-17T22:58:16.368077Z"
    },
    "executionInfo": {
     "elapsed": 612,
     "status": "ok",
     "timestamp": 1624466629474,
     "user": {
      "displayName": "siddharth patra",
      "photoUrl": "https://lh3.googleusercontent.com/a-/AOh14Gjnwsdj5DKa95WHRl25dlQz9L1Bbc10vap4xTNIiA=s64",
      "userId": "01966341811263607507"
     },
     "user_tz": -330
    },
    "id": "xygeQDpT-eFZ",
    "outputId": "15632d97-37a4-4bd7-f632-6ddd0e0b3666",
    "papermill": {
     "duration": 0.025659,
     "end_time": "2024-01-17T22:58:16.371545",
     "exception": false,
     "start_time": "2024-01-17T22:58:16.345886",
     "status": "completed"
    },
    "tags": []
   },
   "outputs": [],
   "source": [
    "# print(forest.shape) ## checking shape of the dataset\n",
    "# print(\"-------------------------------------------------------------------------------------\")\n",
    "# print(forest.columns) ## checking columns\n",
    "# print(\"-------------------------------------------------------------------------------------\")\n",
    "# print(forest.isnull().sum()) ## checking for null values\n",
    "# print(\"-------------------------------------------------------------------------------------\")\n",
    "# print(forest.describe()) ## checking info \n",
    "# print(\"-------------------------------------------------------------------------------------\")\n",
    "# print(forest.head()) ## checking first five entries "
   ]
  },
  {
   "cell_type": "markdown",
   "id": "8dde740b",
   "metadata": {
    "papermill": {
     "duration": 0.016202,
     "end_time": "2024-01-17T22:58:16.404397",
     "exception": false,
     "start_time": "2024-01-17T22:58:16.388195",
     "status": "completed"
    },
    "tags": []
   },
   "source": [
    "## Data Preprocessing"
   ]
  },
  {
   "cell_type": "code",
   "execution_count": 4,
   "id": "1e5d8111",
   "metadata": {
    "execution": {
     "iopub.execute_input": "2024-01-17T22:58:16.439627Z",
     "iopub.status.busy": "2024-01-17T22:58:16.438906Z",
     "iopub.status.idle": "2024-01-17T22:58:16.454871Z",
     "shell.execute_reply": "2024-01-17T22:58:16.453756Z"
    },
    "papermill": {
     "duration": 0.036731,
     "end_time": "2024-01-17T22:58:16.457593",
     "exception": false,
     "start_time": "2024-01-17T22:58:16.420862",
     "status": "completed"
    },
    "tags": []
   },
   "outputs": [],
   "source": [
    "y = forest['confidence']\n",
    "forest = forest.drop(['confidence'], axis = 1)"
   ]
  },
  {
   "cell_type": "markdown",
   "id": "06391c3d",
   "metadata": {
    "papermill": {
     "duration": 0.017109,
     "end_time": "2024-01-17T22:58:16.491200",
     "exception": false,
     "start_time": "2024-01-17T22:58:16.474091",
     "status": "completed"
    },
    "tags": []
   },
   "source": [
    "### dropping the columns with constant value (instrument and version)"
   ]
  },
  {
   "cell_type": "code",
   "execution_count": 5,
   "id": "b6225d08",
   "metadata": {
    "execution": {
     "iopub.execute_input": "2024-01-17T22:58:16.526504Z",
     "iopub.status.busy": "2024-01-17T22:58:16.526111Z",
     "iopub.status.idle": "2024-01-17T22:58:16.552641Z",
     "shell.execute_reply": "2024-01-17T22:58:16.551428Z"
    },
    "papermill": {
     "duration": 0.047286,
     "end_time": "2024-01-17T22:58:16.555508",
     "exception": false,
     "start_time": "2024-01-17T22:58:16.508222",
     "status": "completed"
    },
    "tags": []
   },
   "outputs": [
    {
     "data": {
      "text/html": [
       "<div>\n",
       "<style scoped>\n",
       "    .dataframe tbody tr th:only-of-type {\n",
       "        vertical-align: middle;\n",
       "    }\n",
       "\n",
       "    .dataframe tbody tr th {\n",
       "        vertical-align: top;\n",
       "    }\n",
       "\n",
       "    .dataframe thead th {\n",
       "        text-align: right;\n",
       "    }\n",
       "</style>\n",
       "<table border=\"1\" class=\"dataframe\">\n",
       "  <thead>\n",
       "    <tr style=\"text-align: right;\">\n",
       "      <th></th>\n",
       "      <th>latitude</th>\n",
       "      <th>longitude</th>\n",
       "      <th>brightness</th>\n",
       "      <th>scan</th>\n",
       "      <th>track</th>\n",
       "      <th>acq_date</th>\n",
       "      <th>acq_time</th>\n",
       "      <th>satellite</th>\n",
       "      <th>bright_t31</th>\n",
       "      <th>frp</th>\n",
       "      <th>daynight</th>\n",
       "      <th>type</th>\n",
       "    </tr>\n",
       "  </thead>\n",
       "  <tbody>\n",
       "    <tr>\n",
       "      <th>0</th>\n",
       "      <td>-11.8070</td>\n",
       "      <td>142.0583</td>\n",
       "      <td>313.0</td>\n",
       "      <td>1.0</td>\n",
       "      <td>1.0</td>\n",
       "      <td>2019-08-01</td>\n",
       "      <td>56</td>\n",
       "      <td>Terra</td>\n",
       "      <td>297.3</td>\n",
       "      <td>6.6</td>\n",
       "      <td>D</td>\n",
       "      <td>0</td>\n",
       "    </tr>\n",
       "    <tr>\n",
       "      <th>1</th>\n",
       "      <td>-11.7924</td>\n",
       "      <td>142.0850</td>\n",
       "      <td>319.3</td>\n",
       "      <td>1.0</td>\n",
       "      <td>1.0</td>\n",
       "      <td>2019-08-01</td>\n",
       "      <td>56</td>\n",
       "      <td>Terra</td>\n",
       "      <td>297.3</td>\n",
       "      <td>11.3</td>\n",
       "      <td>D</td>\n",
       "      <td>0</td>\n",
       "    </tr>\n",
       "    <tr>\n",
       "      <th>2</th>\n",
       "      <td>-12.8398</td>\n",
       "      <td>132.8744</td>\n",
       "      <td>311.6</td>\n",
       "      <td>3.1</td>\n",
       "      <td>1.7</td>\n",
       "      <td>2019-08-01</td>\n",
       "      <td>57</td>\n",
       "      <td>Terra</td>\n",
       "      <td>298.7</td>\n",
       "      <td>23.1</td>\n",
       "      <td>D</td>\n",
       "      <td>0</td>\n",
       "    </tr>\n",
       "    <tr>\n",
       "      <th>3</th>\n",
       "      <td>-14.4306</td>\n",
       "      <td>143.3035</td>\n",
       "      <td>310.1</td>\n",
       "      <td>1.1</td>\n",
       "      <td>1.1</td>\n",
       "      <td>2019-08-01</td>\n",
       "      <td>57</td>\n",
       "      <td>Terra</td>\n",
       "      <td>296.1</td>\n",
       "      <td>6.5</td>\n",
       "      <td>D</td>\n",
       "      <td>0</td>\n",
       "    </tr>\n",
       "    <tr>\n",
       "      <th>4</th>\n",
       "      <td>-12.4953</td>\n",
       "      <td>131.4897</td>\n",
       "      <td>310.3</td>\n",
       "      <td>4.0</td>\n",
       "      <td>1.9</td>\n",
       "      <td>2019-08-01</td>\n",
       "      <td>57</td>\n",
       "      <td>Terra</td>\n",
       "      <td>298.8</td>\n",
       "      <td>27.6</td>\n",
       "      <td>D</td>\n",
       "      <td>0</td>\n",
       "    </tr>\n",
       "  </tbody>\n",
       "</table>\n",
       "</div>"
      ],
      "text/plain": [
       "   latitude  longitude  brightness  scan  track    acq_date  acq_time  \\\n",
       "0  -11.8070   142.0583       313.0   1.0    1.0  2019-08-01        56   \n",
       "1  -11.7924   142.0850       319.3   1.0    1.0  2019-08-01        56   \n",
       "2  -12.8398   132.8744       311.6   3.1    1.7  2019-08-01        57   \n",
       "3  -14.4306   143.3035       310.1   1.1    1.1  2019-08-01        57   \n",
       "4  -12.4953   131.4897       310.3   4.0    1.9  2019-08-01        57   \n",
       "\n",
       "  satellite  bright_t31   frp daynight  type  \n",
       "0     Terra       297.3   6.6        D     0  \n",
       "1     Terra       297.3  11.3        D     0  \n",
       "2     Terra       298.7  23.1        D     0  \n",
       "3     Terra       296.1   6.5        D     0  \n",
       "4     Terra       298.8  27.6        D     0  "
      ]
     },
     "execution_count": 5,
     "metadata": {},
     "output_type": "execute_result"
    }
   ],
   "source": [
    "# forest['version'].describe()\n",
    "# forest['instrument'].describe()\n",
    "# they only have one constant value, so they can be dropped\n",
    "\n",
    "forest = forest.drop(['instrument', 'version'], axis = 1) \n",
    "forest.head()"
   ]
  },
  {
   "cell_type": "markdown",
   "id": "c75112cf",
   "metadata": {
    "papermill": {
     "duration": 0.016425,
     "end_time": "2024-01-17T22:58:16.588661",
     "exception": false,
     "start_time": "2024-01-17T22:58:16.572236",
     "status": "completed"
    },
    "tags": []
   },
   "source": [
    "### encoding daynight and satellite"
   ]
  },
  {
   "cell_type": "code",
   "execution_count": 6,
   "id": "778a0086",
   "metadata": {
    "execution": {
     "iopub.execute_input": "2024-01-17T22:58:16.625388Z",
     "iopub.status.busy": "2024-01-17T22:58:16.624359Z",
     "iopub.status.idle": "2024-01-17T22:58:16.657424Z",
     "shell.execute_reply": "2024-01-17T22:58:16.656165Z"
    },
    "executionInfo": {
     "elapsed": 7,
     "status": "ok",
     "timestamp": 1624466633727,
     "user": {
      "displayName": "siddharth patra",
      "photoUrl": "https://lh3.googleusercontent.com/a-/AOh14Gjnwsdj5DKa95WHRl25dlQz9L1Bbc10vap4xTNIiA=s64",
      "userId": "01966341811263607507"
     },
     "user_tz": -330
    },
    "id": "KBjrkSQlDSqN",
    "outputId": "d5819e18-1d12-48b2-e78d-ecccba5dee4f",
    "papermill": {
     "duration": 0.054835,
     "end_time": "2024-01-17T22:58:16.660207",
     "exception": false,
     "start_time": "2024-01-17T22:58:16.605372",
     "status": "completed"
    },
    "tags": []
   },
   "outputs": [
    {
     "data": {
      "text/html": [
       "<div>\n",
       "<style scoped>\n",
       "    .dataframe tbody tr th:only-of-type {\n",
       "        vertical-align: middle;\n",
       "    }\n",
       "\n",
       "    .dataframe tbody tr th {\n",
       "        vertical-align: top;\n",
       "    }\n",
       "\n",
       "    .dataframe thead th {\n",
       "        text-align: right;\n",
       "    }\n",
       "</style>\n",
       "<table border=\"1\" class=\"dataframe\">\n",
       "  <thead>\n",
       "    <tr style=\"text-align: right;\">\n",
       "      <th></th>\n",
       "      <th>latitude</th>\n",
       "      <th>longitude</th>\n",
       "      <th>brightness</th>\n",
       "      <th>scan</th>\n",
       "      <th>track</th>\n",
       "      <th>acq_date</th>\n",
       "      <th>acq_time</th>\n",
       "      <th>satellite</th>\n",
       "      <th>bright_t31</th>\n",
       "      <th>frp</th>\n",
       "      <th>daynight</th>\n",
       "      <th>type</th>\n",
       "    </tr>\n",
       "  </thead>\n",
       "  <tbody>\n",
       "    <tr>\n",
       "      <th>0</th>\n",
       "      <td>-11.8070</td>\n",
       "      <td>142.0583</td>\n",
       "      <td>313.0</td>\n",
       "      <td>1.0</td>\n",
       "      <td>1.0</td>\n",
       "      <td>2019-08-01</td>\n",
       "      <td>56</td>\n",
       "      <td>1</td>\n",
       "      <td>297.3</td>\n",
       "      <td>6.6</td>\n",
       "      <td>1</td>\n",
       "      <td>0</td>\n",
       "    </tr>\n",
       "    <tr>\n",
       "      <th>1</th>\n",
       "      <td>-11.7924</td>\n",
       "      <td>142.0850</td>\n",
       "      <td>319.3</td>\n",
       "      <td>1.0</td>\n",
       "      <td>1.0</td>\n",
       "      <td>2019-08-01</td>\n",
       "      <td>56</td>\n",
       "      <td>1</td>\n",
       "      <td>297.3</td>\n",
       "      <td>11.3</td>\n",
       "      <td>1</td>\n",
       "      <td>0</td>\n",
       "    </tr>\n",
       "    <tr>\n",
       "      <th>2</th>\n",
       "      <td>-12.8398</td>\n",
       "      <td>132.8744</td>\n",
       "      <td>311.6</td>\n",
       "      <td>3.1</td>\n",
       "      <td>1.7</td>\n",
       "      <td>2019-08-01</td>\n",
       "      <td>57</td>\n",
       "      <td>1</td>\n",
       "      <td>298.7</td>\n",
       "      <td>23.1</td>\n",
       "      <td>1</td>\n",
       "      <td>0</td>\n",
       "    </tr>\n",
       "    <tr>\n",
       "      <th>3</th>\n",
       "      <td>-14.4306</td>\n",
       "      <td>143.3035</td>\n",
       "      <td>310.1</td>\n",
       "      <td>1.1</td>\n",
       "      <td>1.1</td>\n",
       "      <td>2019-08-01</td>\n",
       "      <td>57</td>\n",
       "      <td>1</td>\n",
       "      <td>296.1</td>\n",
       "      <td>6.5</td>\n",
       "      <td>1</td>\n",
       "      <td>0</td>\n",
       "    </tr>\n",
       "    <tr>\n",
       "      <th>4</th>\n",
       "      <td>-12.4953</td>\n",
       "      <td>131.4897</td>\n",
       "      <td>310.3</td>\n",
       "      <td>4.0</td>\n",
       "      <td>1.9</td>\n",
       "      <td>2019-08-01</td>\n",
       "      <td>57</td>\n",
       "      <td>1</td>\n",
       "      <td>298.8</td>\n",
       "      <td>27.6</td>\n",
       "      <td>1</td>\n",
       "      <td>0</td>\n",
       "    </tr>\n",
       "  </tbody>\n",
       "</table>\n",
       "</div>"
      ],
      "text/plain": [
       "   latitude  longitude  brightness  scan  track    acq_date  acq_time  \\\n",
       "0  -11.8070   142.0583       313.0   1.0    1.0  2019-08-01        56   \n",
       "1  -11.7924   142.0850       319.3   1.0    1.0  2019-08-01        56   \n",
       "2  -12.8398   132.8744       311.6   3.1    1.7  2019-08-01        57   \n",
       "3  -14.4306   143.3035       310.1   1.1    1.1  2019-08-01        57   \n",
       "4  -12.4953   131.4897       310.3   4.0    1.9  2019-08-01        57   \n",
       "\n",
       "   satellite  bright_t31   frp  daynight  type  \n",
       "0          1       297.3   6.6         1     0  \n",
       "1          1       297.3  11.3         1     0  \n",
       "2          1       298.7  23.1         1     0  \n",
       "3          1       296.1   6.5         1     0  \n",
       "4          1       298.8  27.6         1     0  "
      ]
     },
     "execution_count": 6,
     "metadata": {},
     "output_type": "execute_result"
    }
   ],
   "source": [
    "daynight_map = {\"D\": 1, \"N\": 0}\n",
    "satellite_map = {\"Terra\": 1, \"Aqua\": 0}\n",
    "\n",
    "forest['daynight'] = forest['daynight'].map(daynight_map)\n",
    "forest['satellite'] = forest['satellite'].map(satellite_map)\n",
    "\n",
    "forest.head()"
   ]
  },
  {
   "cell_type": "markdown",
   "id": "aa8659ca",
   "metadata": {
    "papermill": {
     "duration": 0.016934,
     "end_time": "2024-01-17T22:58:16.760151",
     "exception": false,
     "start_time": "2024-01-17T22:58:16.743217",
     "status": "completed"
    },
    "tags": []
   },
   "source": [
    "### encoding 'type' column [removed]"
   ]
  },
  {
   "cell_type": "code",
   "execution_count": 7,
   "id": "54ef8e12",
   "metadata": {
    "execution": {
     "iopub.execute_input": "2024-01-17T22:58:16.799221Z",
     "iopub.status.busy": "2024-01-17T22:58:16.798824Z",
     "iopub.status.idle": "2024-01-17T22:58:16.811635Z",
     "shell.execute_reply": "2024-01-17T22:58:16.810331Z"
    },
    "executionInfo": {
     "elapsed": 14,
     "status": "ok",
     "timestamp": 1624466634395,
     "user": {
      "displayName": "siddharth patra",
      "photoUrl": "https://lh3.googleusercontent.com/a-/AOh14Gjnwsdj5DKa95WHRl25dlQz9L1Bbc10vap4xTNIiA=s64",
      "userId": "01966341811263607507"
     },
     "user_tz": -330
    },
    "id": "UdGTmFhfESJg",
    "outputId": "887f3074-6639-44a2-a7f9-adac7e9edb5e",
    "papermill": {
     "duration": 0.035755,
     "end_time": "2024-01-17T22:58:16.814073",
     "exception": false,
     "start_time": "2024-01-17T22:58:16.778318",
     "status": "completed"
    },
    "tags": []
   },
   "outputs": [
    {
     "data": {
      "text/plain": [
       "type\n",
       "0    35666\n",
       "2      335\n",
       "3       10\n",
       "Name: count, dtype: int64"
      ]
     },
     "execution_count": 7,
     "metadata": {},
     "output_type": "execute_result"
    }
   ],
   "source": [
    "forest['type'].value_counts()"
   ]
  },
  {
   "cell_type": "code",
   "execution_count": 8,
   "id": "4d6ecd37",
   "metadata": {
    "execution": {
     "iopub.execute_input": "2024-01-17T22:58:16.851702Z",
     "iopub.status.busy": "2024-01-17T22:58:16.850383Z",
     "iopub.status.idle": "2024-01-17T22:58:16.855913Z",
     "shell.execute_reply": "2024-01-17T22:58:16.855020Z"
    },
    "executionInfo": {
     "elapsed": 19,
     "status": "ok",
     "timestamp": 1624466634999,
     "user": {
      "displayName": "siddharth patra",
      "photoUrl": "https://lh3.googleusercontent.com/a-/AOh14Gjnwsdj5DKa95WHRl25dlQz9L1Bbc10vap4xTNIiA=s64",
      "userId": "01966341811263607507"
     },
     "user_tz": -330
    },
    "id": "pz9rHUAiEb18",
    "outputId": "f9bdf5ea-877e-4b16-eab4-23cf9e3948b8",
    "papermill": {
     "duration": 0.026675,
     "end_time": "2024-01-17T22:58:16.858276",
     "exception": false,
     "start_time": "2024-01-17T22:58:16.831601",
     "status": "completed"
    },
    "tags": []
   },
   "outputs": [],
   "source": [
    "# types = pd.get_dummies(forest['type'])\n",
    "# forest = pd.concat([forest, types], axis=1)\n",
    "# forest = forest.rename(columns={0: 'type_0', 2: 'type_2', 3: 'type_3'})\n",
    "\n",
    "# forest = forest.drop(['type_0'], axis = 1) \n",
    "\n",
    "# forest = forest.drop(['type'], axis = 1)\n",
    "# forest.head()\n",
    "\n",
    "# forest['type'] = forest['type'].apply(lambda x: 1 if x != 0 else 0)"
   ]
  },
  {
   "cell_type": "markdown",
   "id": "bcab7428",
   "metadata": {
    "papermill": {
     "duration": 0.016975,
     "end_time": "2024-01-17T22:58:16.892711",
     "exception": false,
     "start_time": "2024-01-17T22:58:16.875736",
     "status": "completed"
    },
    "tags": []
   },
   "source": [
    "### encoding acquired date column"
   ]
  },
  {
   "cell_type": "code",
   "execution_count": 9,
   "id": "803e8abd",
   "metadata": {
    "execution": {
     "iopub.execute_input": "2024-01-17T22:58:16.930035Z",
     "iopub.status.busy": "2024-01-17T22:58:16.929601Z",
     "iopub.status.idle": "2024-01-17T22:58:17.033064Z",
     "shell.execute_reply": "2024-01-17T22:58:17.031893Z"
    },
    "id": "fJIYxn2TIseV",
    "papermill": {
     "duration": 0.125375,
     "end_time": "2024-01-17T22:58:17.035941",
     "exception": false,
     "start_time": "2024-01-17T22:58:16.910566",
     "status": "completed"
    },
    "tags": []
   },
   "outputs": [],
   "source": [
    "forest['acq_date'] = pd.to_datetime(forest['acq_date'])"
   ]
  },
  {
   "cell_type": "code",
   "execution_count": 10,
   "id": "d9ca7f8f",
   "metadata": {
    "execution": {
     "iopub.execute_input": "2024-01-17T22:58:17.072976Z",
     "iopub.status.busy": "2024-01-17T22:58:17.072555Z",
     "iopub.status.idle": "2024-01-17T22:58:17.112729Z",
     "shell.execute_reply": "2024-01-17T22:58:17.111624Z"
    },
    "executionInfo": {
     "elapsed": 5,
     "status": "ok",
     "timestamp": 1624466637106,
     "user": {
      "displayName": "siddharth patra",
      "photoUrl": "https://lh3.googleusercontent.com/a-/AOh14Gjnwsdj5DKa95WHRl25dlQz9L1Bbc10vap4xTNIiA=s64",
      "userId": "01966341811263607507"
     },
     "user_tz": -330
    },
    "id": "oPT5eHoIJWhC",
    "outputId": "7ee91e1d-3ad5-4008-f5d6-a1d25b2c8a24",
    "papermill": {
     "duration": 0.061367,
     "end_time": "2024-01-17T22:58:17.115211",
     "exception": false,
     "start_time": "2024-01-17T22:58:17.053844",
     "status": "completed"
    },
    "tags": []
   },
   "outputs": [
    {
     "data": {
      "text/html": [
       "<div>\n",
       "<style scoped>\n",
       "    .dataframe tbody tr th:only-of-type {\n",
       "        vertical-align: middle;\n",
       "    }\n",
       "\n",
       "    .dataframe tbody tr th {\n",
       "        vertical-align: top;\n",
       "    }\n",
       "\n",
       "    .dataframe thead th {\n",
       "        text-align: right;\n",
       "    }\n",
       "</style>\n",
       "<table border=\"1\" class=\"dataframe\">\n",
       "  <thead>\n",
       "    <tr style=\"text-align: right;\">\n",
       "      <th></th>\n",
       "      <th>latitude</th>\n",
       "      <th>longitude</th>\n",
       "      <th>brightness</th>\n",
       "      <th>scan</th>\n",
       "      <th>track</th>\n",
       "      <th>acq_time</th>\n",
       "      <th>satellite</th>\n",
       "      <th>bright_t31</th>\n",
       "      <th>frp</th>\n",
       "      <th>daynight</th>\n",
       "      <th>type</th>\n",
       "      <th>year</th>\n",
       "      <th>month</th>\n",
       "      <th>day</th>\n",
       "    </tr>\n",
       "  </thead>\n",
       "  <tbody>\n",
       "    <tr>\n",
       "      <th>0</th>\n",
       "      <td>-11.8070</td>\n",
       "      <td>142.0583</td>\n",
       "      <td>313.0</td>\n",
       "      <td>1.0</td>\n",
       "      <td>1.0</td>\n",
       "      <td>56</td>\n",
       "      <td>1</td>\n",
       "      <td>297.3</td>\n",
       "      <td>6.6</td>\n",
       "      <td>1</td>\n",
       "      <td>0</td>\n",
       "      <td>2019</td>\n",
       "      <td>8</td>\n",
       "      <td>1</td>\n",
       "    </tr>\n",
       "    <tr>\n",
       "      <th>1</th>\n",
       "      <td>-11.7924</td>\n",
       "      <td>142.0850</td>\n",
       "      <td>319.3</td>\n",
       "      <td>1.0</td>\n",
       "      <td>1.0</td>\n",
       "      <td>56</td>\n",
       "      <td>1</td>\n",
       "      <td>297.3</td>\n",
       "      <td>11.3</td>\n",
       "      <td>1</td>\n",
       "      <td>0</td>\n",
       "      <td>2019</td>\n",
       "      <td>8</td>\n",
       "      <td>1</td>\n",
       "    </tr>\n",
       "    <tr>\n",
       "      <th>2</th>\n",
       "      <td>-12.8398</td>\n",
       "      <td>132.8744</td>\n",
       "      <td>311.6</td>\n",
       "      <td>3.1</td>\n",
       "      <td>1.7</td>\n",
       "      <td>57</td>\n",
       "      <td>1</td>\n",
       "      <td>298.7</td>\n",
       "      <td>23.1</td>\n",
       "      <td>1</td>\n",
       "      <td>0</td>\n",
       "      <td>2019</td>\n",
       "      <td>8</td>\n",
       "      <td>1</td>\n",
       "    </tr>\n",
       "    <tr>\n",
       "      <th>3</th>\n",
       "      <td>-14.4306</td>\n",
       "      <td>143.3035</td>\n",
       "      <td>310.1</td>\n",
       "      <td>1.1</td>\n",
       "      <td>1.1</td>\n",
       "      <td>57</td>\n",
       "      <td>1</td>\n",
       "      <td>296.1</td>\n",
       "      <td>6.5</td>\n",
       "      <td>1</td>\n",
       "      <td>0</td>\n",
       "      <td>2019</td>\n",
       "      <td>8</td>\n",
       "      <td>1</td>\n",
       "    </tr>\n",
       "    <tr>\n",
       "      <th>4</th>\n",
       "      <td>-12.4953</td>\n",
       "      <td>131.4897</td>\n",
       "      <td>310.3</td>\n",
       "      <td>4.0</td>\n",
       "      <td>1.9</td>\n",
       "      <td>57</td>\n",
       "      <td>1</td>\n",
       "      <td>298.8</td>\n",
       "      <td>27.6</td>\n",
       "      <td>1</td>\n",
       "      <td>0</td>\n",
       "      <td>2019</td>\n",
       "      <td>8</td>\n",
       "      <td>1</td>\n",
       "    </tr>\n",
       "  </tbody>\n",
       "</table>\n",
       "</div>"
      ],
      "text/plain": [
       "   latitude  longitude  brightness  scan  track  acq_time  satellite  \\\n",
       "0  -11.8070   142.0583       313.0   1.0    1.0        56          1   \n",
       "1  -11.7924   142.0850       319.3   1.0    1.0        56          1   \n",
       "2  -12.8398   132.8744       311.6   3.1    1.7        57          1   \n",
       "3  -14.4306   143.3035       310.1   1.1    1.1        57          1   \n",
       "4  -12.4953   131.4897       310.3   4.0    1.9        57          1   \n",
       "\n",
       "   bright_t31   frp  daynight  type  year  month  day  \n",
       "0       297.3   6.6         1     0  2019      8    1  \n",
       "1       297.3  11.3         1     0  2019      8    1  \n",
       "2       298.7  23.1         1     0  2019      8    1  \n",
       "3       296.1   6.5         1     0  2019      8    1  \n",
       "4       298.8  27.6         1     0  2019      8    1  "
      ]
     },
     "execution_count": 10,
     "metadata": {},
     "output_type": "execute_result"
    }
   ],
   "source": [
    "forest['year'] = forest['acq_date'].dt.year\n",
    "forest['month'] = forest['acq_date'].dt.month\n",
    "forest['day'] = forest['acq_date'].dt.day\n",
    "forest = forest.drop(['acq_date'], axis=1)\n",
    "forest.head()"
   ]
  },
  {
   "cell_type": "code",
   "execution_count": 11,
   "id": "f028454c",
   "metadata": {
    "execution": {
     "iopub.execute_input": "2024-01-17T22:58:17.153086Z",
     "iopub.status.busy": "2024-01-17T22:58:17.152674Z",
     "iopub.status.idle": "2024-01-17T22:58:17.162244Z",
     "shell.execute_reply": "2024-01-17T22:58:17.161268Z"
    },
    "papermill": {
     "duration": 0.031561,
     "end_time": "2024-01-17T22:58:17.164501",
     "exception": false,
     "start_time": "2024-01-17T22:58:17.132940",
     "status": "completed"
    },
    "tags": []
   },
   "outputs": [
    {
     "data": {
      "text/plain": [
       "2"
      ]
     },
     "execution_count": 11,
     "metadata": {},
     "output_type": "execute_result"
    }
   ],
   "source": [
    "forest['month'].nunique()"
   ]
  },
  {
   "cell_type": "code",
   "execution_count": 12,
   "id": "b39dbde6",
   "metadata": {
    "execution": {
     "iopub.execute_input": "2024-01-17T22:58:17.202651Z",
     "iopub.status.busy": "2024-01-17T22:58:17.201627Z",
     "iopub.status.idle": "2024-01-17T22:58:17.238359Z",
     "shell.execute_reply": "2024-01-17T22:58:17.237457Z"
    },
    "papermill": {
     "duration": 0.058044,
     "end_time": "2024-01-17T22:58:17.240548",
     "exception": false,
     "start_time": "2024-01-17T22:58:17.182504",
     "status": "completed"
    },
    "tags": []
   },
   "outputs": [
    {
     "data": {
      "text/html": [
       "<div>\n",
       "<style scoped>\n",
       "    .dataframe tbody tr th:only-of-type {\n",
       "        vertical-align: middle;\n",
       "    }\n",
       "\n",
       "    .dataframe tbody tr th {\n",
       "        vertical-align: top;\n",
       "    }\n",
       "\n",
       "    .dataframe thead th {\n",
       "        text-align: right;\n",
       "    }\n",
       "</style>\n",
       "<table border=\"1\" class=\"dataframe\">\n",
       "  <thead>\n",
       "    <tr style=\"text-align: right;\">\n",
       "      <th></th>\n",
       "      <th>latitude</th>\n",
       "      <th>longitude</th>\n",
       "      <th>brightness</th>\n",
       "      <th>scan</th>\n",
       "      <th>track</th>\n",
       "      <th>acq_time</th>\n",
       "      <th>satellite</th>\n",
       "      <th>bright_t31</th>\n",
       "      <th>frp</th>\n",
       "      <th>daynight</th>\n",
       "      <th>type</th>\n",
       "      <th>year</th>\n",
       "      <th>month</th>\n",
       "      <th>day</th>\n",
       "      <th>August</th>\n",
       "      <th>9</th>\n",
       "    </tr>\n",
       "  </thead>\n",
       "  <tbody>\n",
       "    <tr>\n",
       "      <th>0</th>\n",
       "      <td>-11.8070</td>\n",
       "      <td>142.0583</td>\n",
       "      <td>313.0</td>\n",
       "      <td>1.0</td>\n",
       "      <td>1.0</td>\n",
       "      <td>56</td>\n",
       "      <td>1</td>\n",
       "      <td>297.3</td>\n",
       "      <td>6.6</td>\n",
       "      <td>1</td>\n",
       "      <td>0</td>\n",
       "      <td>2019</td>\n",
       "      <td>8</td>\n",
       "      <td>1</td>\n",
       "      <td>True</td>\n",
       "      <td>False</td>\n",
       "    </tr>\n",
       "    <tr>\n",
       "      <th>1</th>\n",
       "      <td>-11.7924</td>\n",
       "      <td>142.0850</td>\n",
       "      <td>319.3</td>\n",
       "      <td>1.0</td>\n",
       "      <td>1.0</td>\n",
       "      <td>56</td>\n",
       "      <td>1</td>\n",
       "      <td>297.3</td>\n",
       "      <td>11.3</td>\n",
       "      <td>1</td>\n",
       "      <td>0</td>\n",
       "      <td>2019</td>\n",
       "      <td>8</td>\n",
       "      <td>1</td>\n",
       "      <td>True</td>\n",
       "      <td>False</td>\n",
       "    </tr>\n",
       "    <tr>\n",
       "      <th>2</th>\n",
       "      <td>-12.8398</td>\n",
       "      <td>132.8744</td>\n",
       "      <td>311.6</td>\n",
       "      <td>3.1</td>\n",
       "      <td>1.7</td>\n",
       "      <td>57</td>\n",
       "      <td>1</td>\n",
       "      <td>298.7</td>\n",
       "      <td>23.1</td>\n",
       "      <td>1</td>\n",
       "      <td>0</td>\n",
       "      <td>2019</td>\n",
       "      <td>8</td>\n",
       "      <td>1</td>\n",
       "      <td>True</td>\n",
       "      <td>False</td>\n",
       "    </tr>\n",
       "    <tr>\n",
       "      <th>3</th>\n",
       "      <td>-14.4306</td>\n",
       "      <td>143.3035</td>\n",
       "      <td>310.1</td>\n",
       "      <td>1.1</td>\n",
       "      <td>1.1</td>\n",
       "      <td>57</td>\n",
       "      <td>1</td>\n",
       "      <td>296.1</td>\n",
       "      <td>6.5</td>\n",
       "      <td>1</td>\n",
       "      <td>0</td>\n",
       "      <td>2019</td>\n",
       "      <td>8</td>\n",
       "      <td>1</td>\n",
       "      <td>True</td>\n",
       "      <td>False</td>\n",
       "    </tr>\n",
       "    <tr>\n",
       "      <th>4</th>\n",
       "      <td>-12.4953</td>\n",
       "      <td>131.4897</td>\n",
       "      <td>310.3</td>\n",
       "      <td>4.0</td>\n",
       "      <td>1.9</td>\n",
       "      <td>57</td>\n",
       "      <td>1</td>\n",
       "      <td>298.8</td>\n",
       "      <td>27.6</td>\n",
       "      <td>1</td>\n",
       "      <td>0</td>\n",
       "      <td>2019</td>\n",
       "      <td>8</td>\n",
       "      <td>1</td>\n",
       "      <td>True</td>\n",
       "      <td>False</td>\n",
       "    </tr>\n",
       "  </tbody>\n",
       "</table>\n",
       "</div>"
      ],
      "text/plain": [
       "   latitude  longitude  brightness  scan  track  acq_time  satellite  \\\n",
       "0  -11.8070   142.0583       313.0   1.0    1.0        56          1   \n",
       "1  -11.7924   142.0850       319.3   1.0    1.0        56          1   \n",
       "2  -12.8398   132.8744       311.6   3.1    1.7        57          1   \n",
       "3  -14.4306   143.3035       310.1   1.1    1.1        57          1   \n",
       "4  -12.4953   131.4897       310.3   4.0    1.9        57          1   \n",
       "\n",
       "   bright_t31   frp  daynight  type  year  month  day  August      9  \n",
       "0       297.3   6.6         1     0  2019      8    1    True  False  \n",
       "1       297.3  11.3         1     0  2019      8    1    True  False  \n",
       "2       298.7  23.1         1     0  2019      8    1    True  False  \n",
       "3       296.1   6.5         1     0  2019      8    1    True  False  \n",
       "4       298.8  27.6         1     0  2019      8    1    True  False  "
      ]
     },
     "execution_count": 12,
     "metadata": {},
     "output_type": "execute_result"
    }
   ],
   "source": [
    "months = pd.get_dummies(forest['month'])\n",
    "forest = pd.concat([forest, months], axis=1)\n",
    "forest = forest.rename(columns={8: 'August'})\n",
    "\n",
    "forest.head()"
   ]
  },
  {
   "cell_type": "code",
   "execution_count": 13,
   "id": "6c7924a2",
   "metadata": {
    "execution": {
     "iopub.execute_input": "2024-01-17T22:58:17.279177Z",
     "iopub.status.busy": "2024-01-17T22:58:17.278421Z",
     "iopub.status.idle": "2024-01-17T22:58:17.301394Z",
     "shell.execute_reply": "2024-01-17T22:58:17.300309Z"
    },
    "papermill": {
     "duration": 0.045267,
     "end_time": "2024-01-17T22:58:17.304006",
     "exception": false,
     "start_time": "2024-01-17T22:58:17.258739",
     "status": "completed"
    },
    "tags": []
   },
   "outputs": [
    {
     "data": {
      "text/html": [
       "<div>\n",
       "<style scoped>\n",
       "    .dataframe tbody tr th:only-of-type {\n",
       "        vertical-align: middle;\n",
       "    }\n",
       "\n",
       "    .dataframe tbody tr th {\n",
       "        vertical-align: top;\n",
       "    }\n",
       "\n",
       "    .dataframe thead th {\n",
       "        text-align: right;\n",
       "    }\n",
       "</style>\n",
       "<table border=\"1\" class=\"dataframe\">\n",
       "  <thead>\n",
       "    <tr style=\"text-align: right;\">\n",
       "      <th></th>\n",
       "      <th>latitude</th>\n",
       "      <th>longitude</th>\n",
       "      <th>brightness</th>\n",
       "      <th>scan</th>\n",
       "      <th>track</th>\n",
       "      <th>acq_time</th>\n",
       "      <th>satellite</th>\n",
       "      <th>bright_t31</th>\n",
       "      <th>frp</th>\n",
       "      <th>daynight</th>\n",
       "      <th>type</th>\n",
       "      <th>year</th>\n",
       "      <th>day</th>\n",
       "      <th>August</th>\n",
       "    </tr>\n",
       "  </thead>\n",
       "  <tbody>\n",
       "    <tr>\n",
       "      <th>0</th>\n",
       "      <td>-11.8070</td>\n",
       "      <td>142.0583</td>\n",
       "      <td>313.0</td>\n",
       "      <td>1.0</td>\n",
       "      <td>1.0</td>\n",
       "      <td>56</td>\n",
       "      <td>1</td>\n",
       "      <td>297.3</td>\n",
       "      <td>6.6</td>\n",
       "      <td>1</td>\n",
       "      <td>0</td>\n",
       "      <td>2019</td>\n",
       "      <td>1</td>\n",
       "      <td>True</td>\n",
       "    </tr>\n",
       "    <tr>\n",
       "      <th>1</th>\n",
       "      <td>-11.7924</td>\n",
       "      <td>142.0850</td>\n",
       "      <td>319.3</td>\n",
       "      <td>1.0</td>\n",
       "      <td>1.0</td>\n",
       "      <td>56</td>\n",
       "      <td>1</td>\n",
       "      <td>297.3</td>\n",
       "      <td>11.3</td>\n",
       "      <td>1</td>\n",
       "      <td>0</td>\n",
       "      <td>2019</td>\n",
       "      <td>1</td>\n",
       "      <td>True</td>\n",
       "    </tr>\n",
       "    <tr>\n",
       "      <th>2</th>\n",
       "      <td>-12.8398</td>\n",
       "      <td>132.8744</td>\n",
       "      <td>311.6</td>\n",
       "      <td>3.1</td>\n",
       "      <td>1.7</td>\n",
       "      <td>57</td>\n",
       "      <td>1</td>\n",
       "      <td>298.7</td>\n",
       "      <td>23.1</td>\n",
       "      <td>1</td>\n",
       "      <td>0</td>\n",
       "      <td>2019</td>\n",
       "      <td>1</td>\n",
       "      <td>True</td>\n",
       "    </tr>\n",
       "    <tr>\n",
       "      <th>3</th>\n",
       "      <td>-14.4306</td>\n",
       "      <td>143.3035</td>\n",
       "      <td>310.1</td>\n",
       "      <td>1.1</td>\n",
       "      <td>1.1</td>\n",
       "      <td>57</td>\n",
       "      <td>1</td>\n",
       "      <td>296.1</td>\n",
       "      <td>6.5</td>\n",
       "      <td>1</td>\n",
       "      <td>0</td>\n",
       "      <td>2019</td>\n",
       "      <td>1</td>\n",
       "      <td>True</td>\n",
       "    </tr>\n",
       "    <tr>\n",
       "      <th>4</th>\n",
       "      <td>-12.4953</td>\n",
       "      <td>131.4897</td>\n",
       "      <td>310.3</td>\n",
       "      <td>4.0</td>\n",
       "      <td>1.9</td>\n",
       "      <td>57</td>\n",
       "      <td>1</td>\n",
       "      <td>298.8</td>\n",
       "      <td>27.6</td>\n",
       "      <td>1</td>\n",
       "      <td>0</td>\n",
       "      <td>2019</td>\n",
       "      <td>1</td>\n",
       "      <td>True</td>\n",
       "    </tr>\n",
       "  </tbody>\n",
       "</table>\n",
       "</div>"
      ],
      "text/plain": [
       "   latitude  longitude  brightness  scan  track  acq_time  satellite  \\\n",
       "0  -11.8070   142.0583       313.0   1.0    1.0        56          1   \n",
       "1  -11.7924   142.0850       319.3   1.0    1.0        56          1   \n",
       "2  -12.8398   132.8744       311.6   3.1    1.7        57          1   \n",
       "3  -14.4306   143.3035       310.1   1.1    1.1        57          1   \n",
       "4  -12.4953   131.4897       310.3   4.0    1.9        57          1   \n",
       "\n",
       "   bright_t31   frp  daynight  type  year  day  August  \n",
       "0       297.3   6.6         1     0  2019    1    True  \n",
       "1       297.3  11.3         1     0  2019    1    True  \n",
       "2       298.7  23.1         1     0  2019    1    True  \n",
       "3       296.1   6.5         1     0  2019    1    True  \n",
       "4       298.8  27.6         1     0  2019    1    True  "
      ]
     },
     "execution_count": 13,
     "metadata": {},
     "output_type": "execute_result"
    }
   ],
   "source": [
    "forest = forest.drop(['month', 9], axis=1)\n",
    "forest.head()"
   ]
  },
  {
   "cell_type": "code",
   "execution_count": 14,
   "id": "c01ab6b1",
   "metadata": {
    "execution": {
     "iopub.execute_input": "2024-01-17T22:58:17.343120Z",
     "iopub.status.busy": "2024-01-17T22:58:17.342377Z",
     "iopub.status.idle": "2024-01-17T22:58:17.350388Z",
     "shell.execute_reply": "2024-01-17T22:58:17.349347Z"
    },
    "papermill": {
     "duration": 0.030271,
     "end_time": "2024-01-17T22:58:17.352754",
     "exception": false,
     "start_time": "2024-01-17T22:58:17.322483",
     "status": "completed"
    },
    "tags": []
   },
   "outputs": [
    {
     "data": {
      "text/plain": [
       "1"
      ]
     },
     "execution_count": 14,
     "metadata": {},
     "output_type": "execute_result"
    }
   ],
   "source": [
    "forest['year'].nunique()"
   ]
  },
  {
   "cell_type": "code",
   "execution_count": 15,
   "id": "0404114f",
   "metadata": {
    "execution": {
     "iopub.execute_input": "2024-01-17T22:58:17.392905Z",
     "iopub.status.busy": "2024-01-17T22:58:17.392078Z",
     "iopub.status.idle": "2024-01-17T22:58:17.416331Z",
     "shell.execute_reply": "2024-01-17T22:58:17.415180Z"
    },
    "papermill": {
     "duration": 0.047097,
     "end_time": "2024-01-17T22:58:17.418834",
     "exception": false,
     "start_time": "2024-01-17T22:58:17.371737",
     "status": "completed"
    },
    "tags": []
   },
   "outputs": [
    {
     "data": {
      "text/html": [
       "<div>\n",
       "<style scoped>\n",
       "    .dataframe tbody tr th:only-of-type {\n",
       "        vertical-align: middle;\n",
       "    }\n",
       "\n",
       "    .dataframe tbody tr th {\n",
       "        vertical-align: top;\n",
       "    }\n",
       "\n",
       "    .dataframe thead th {\n",
       "        text-align: right;\n",
       "    }\n",
       "</style>\n",
       "<table border=\"1\" class=\"dataframe\">\n",
       "  <thead>\n",
       "    <tr style=\"text-align: right;\">\n",
       "      <th></th>\n",
       "      <th>latitude</th>\n",
       "      <th>longitude</th>\n",
       "      <th>brightness</th>\n",
       "      <th>scan</th>\n",
       "      <th>track</th>\n",
       "      <th>acq_time</th>\n",
       "      <th>satellite</th>\n",
       "      <th>bright_t31</th>\n",
       "      <th>frp</th>\n",
       "      <th>daynight</th>\n",
       "      <th>type</th>\n",
       "      <th>day</th>\n",
       "      <th>August</th>\n",
       "    </tr>\n",
       "  </thead>\n",
       "  <tbody>\n",
       "    <tr>\n",
       "      <th>0</th>\n",
       "      <td>-11.8070</td>\n",
       "      <td>142.0583</td>\n",
       "      <td>313.0</td>\n",
       "      <td>1.0</td>\n",
       "      <td>1.0</td>\n",
       "      <td>56</td>\n",
       "      <td>1</td>\n",
       "      <td>297.3</td>\n",
       "      <td>6.6</td>\n",
       "      <td>1</td>\n",
       "      <td>0</td>\n",
       "      <td>1</td>\n",
       "      <td>True</td>\n",
       "    </tr>\n",
       "    <tr>\n",
       "      <th>1</th>\n",
       "      <td>-11.7924</td>\n",
       "      <td>142.0850</td>\n",
       "      <td>319.3</td>\n",
       "      <td>1.0</td>\n",
       "      <td>1.0</td>\n",
       "      <td>56</td>\n",
       "      <td>1</td>\n",
       "      <td>297.3</td>\n",
       "      <td>11.3</td>\n",
       "      <td>1</td>\n",
       "      <td>0</td>\n",
       "      <td>1</td>\n",
       "      <td>True</td>\n",
       "    </tr>\n",
       "    <tr>\n",
       "      <th>2</th>\n",
       "      <td>-12.8398</td>\n",
       "      <td>132.8744</td>\n",
       "      <td>311.6</td>\n",
       "      <td>3.1</td>\n",
       "      <td>1.7</td>\n",
       "      <td>57</td>\n",
       "      <td>1</td>\n",
       "      <td>298.7</td>\n",
       "      <td>23.1</td>\n",
       "      <td>1</td>\n",
       "      <td>0</td>\n",
       "      <td>1</td>\n",
       "      <td>True</td>\n",
       "    </tr>\n",
       "    <tr>\n",
       "      <th>3</th>\n",
       "      <td>-14.4306</td>\n",
       "      <td>143.3035</td>\n",
       "      <td>310.1</td>\n",
       "      <td>1.1</td>\n",
       "      <td>1.1</td>\n",
       "      <td>57</td>\n",
       "      <td>1</td>\n",
       "      <td>296.1</td>\n",
       "      <td>6.5</td>\n",
       "      <td>1</td>\n",
       "      <td>0</td>\n",
       "      <td>1</td>\n",
       "      <td>True</td>\n",
       "    </tr>\n",
       "    <tr>\n",
       "      <th>4</th>\n",
       "      <td>-12.4953</td>\n",
       "      <td>131.4897</td>\n",
       "      <td>310.3</td>\n",
       "      <td>4.0</td>\n",
       "      <td>1.9</td>\n",
       "      <td>57</td>\n",
       "      <td>1</td>\n",
       "      <td>298.8</td>\n",
       "      <td>27.6</td>\n",
       "      <td>1</td>\n",
       "      <td>0</td>\n",
       "      <td>1</td>\n",
       "      <td>True</td>\n",
       "    </tr>\n",
       "  </tbody>\n",
       "</table>\n",
       "</div>"
      ],
      "text/plain": [
       "   latitude  longitude  brightness  scan  track  acq_time  satellite  \\\n",
       "0  -11.8070   142.0583       313.0   1.0    1.0        56          1   \n",
       "1  -11.7924   142.0850       319.3   1.0    1.0        56          1   \n",
       "2  -12.8398   132.8744       311.6   3.1    1.7        57          1   \n",
       "3  -14.4306   143.3035       310.1   1.1    1.1        57          1   \n",
       "4  -12.4953   131.4897       310.3   4.0    1.9        57          1   \n",
       "\n",
       "   bright_t31   frp  daynight  type  day  August  \n",
       "0       297.3   6.6         1     0    1    True  \n",
       "1       297.3  11.3         1     0    1    True  \n",
       "2       298.7  23.1         1     0    1    True  \n",
       "3       296.1   6.5         1     0    1    True  \n",
       "4       298.8  27.6         1     0    1    True  "
      ]
     },
     "execution_count": 15,
     "metadata": {},
     "output_type": "execute_result"
    }
   ],
   "source": [
    "forest = forest.drop(['year'], axis=1)\n",
    "forest.head()"
   ]
  },
  {
   "cell_type": "code",
   "execution_count": 16,
   "id": "0f6b8b18",
   "metadata": {
    "execution": {
     "iopub.execute_input": "2024-01-17T22:58:17.459464Z",
     "iopub.status.busy": "2024-01-17T22:58:17.458667Z",
     "iopub.status.idle": "2024-01-17T22:58:18.582755Z",
     "shell.execute_reply": "2024-01-17T22:58:18.581270Z"
    },
    "papermill": {
     "duration": 1.14828,
     "end_time": "2024-01-17T22:58:18.586471",
     "exception": false,
     "start_time": "2024-01-17T22:58:17.438191",
     "status": "completed"
    },
    "tags": []
   },
   "outputs": [
    {
     "data": {
      "text/plain": [
       "<Axes: >"
      ]
     },
     "execution_count": 16,
     "metadata": {},
     "output_type": "execute_result"
    },
    {
     "data": {
      "image/png": "[encoded data removed]",
      "text/plain": [
       "<Figure size 1000x1000 with 2 Axes>"
      ]
     },
     "metadata": {},
     "output_type": "display_data"
    }
   ],
   "source": [
    "plt.figure(figsize=(10, 10))\n",
    "sns.heatmap(forest.corr(),annot=True,cmap='viridis',linewidths=.5)"
   ]
  },
  {
   "cell_type": "markdown",
   "id": "e65cb281",
   "metadata": {
    "papermill": {
     "duration": 0.021889,
     "end_time": "2024-01-17T22:58:18.630615",
     "exception": false,
     "start_time": "2024-01-17T22:58:18.608726",
     "status": "completed"
    },
    "tags": []
   },
   "source": [
    "### dropping some of the highly correlated columns"
   ]
  },
  {
   "cell_type": "code",
   "execution_count": 17,
   "id": "c50504a1",
   "metadata": {
    "execution": {
     "iopub.execute_input": "2024-01-17T22:58:18.676737Z",
     "iopub.status.busy": "2024-01-17T22:58:18.675481Z",
     "iopub.status.idle": "2024-01-17T22:58:18.683227Z",
     "shell.execute_reply": "2024-01-17T22:58:18.682269Z"
    },
    "papermill": {
     "duration": 0.033414,
     "end_time": "2024-01-17T22:58:18.685732",
     "exception": false,
     "start_time": "2024-01-17T22:58:18.652318",
     "status": "completed"
    },
    "tags": []
   },
   "outputs": [],
   "source": [
    "forest = forest.drop(['scan', 'acq_time'], axis = 1) "
   ]
  },
  {
   "cell_type": "code",
   "execution_count": 18,
   "id": "0dcb44f0",
   "metadata": {
    "execution": {
     "iopub.execute_input": "2024-01-17T22:58:18.730661Z",
     "iopub.status.busy": "2024-01-17T22:58:18.729865Z",
     "iopub.status.idle": "2024-01-17T22:58:18.749859Z",
     "shell.execute_reply": "2024-01-17T22:58:18.748585Z"
    },
    "papermill": {
     "duration": 0.045568,
     "end_time": "2024-01-17T22:58:18.752647",
     "exception": false,
     "start_time": "2024-01-17T22:58:18.707079",
     "status": "completed"
    },
    "tags": []
   },
   "outputs": [
    {
     "data": {
      "text/html": [
       "<div>\n",
       "<style scoped>\n",
       "    .dataframe tbody tr th:only-of-type {\n",
       "        vertical-align: middle;\n",
       "    }\n",
       "\n",
       "    .dataframe tbody tr th {\n",
       "        vertical-align: top;\n",
       "    }\n",
       "\n",
       "    .dataframe thead th {\n",
       "        text-align: right;\n",
       "    }\n",
       "</style>\n",
       "<table border=\"1\" class=\"dataframe\">\n",
       "  <thead>\n",
       "    <tr style=\"text-align: right;\">\n",
       "      <th></th>\n",
       "      <th>latitude</th>\n",
       "      <th>longitude</th>\n",
       "      <th>brightness</th>\n",
       "      <th>track</th>\n",
       "      <th>satellite</th>\n",
       "      <th>bright_t31</th>\n",
       "      <th>frp</th>\n",
       "      <th>daynight</th>\n",
       "      <th>type</th>\n",
       "      <th>day</th>\n",
       "      <th>August</th>\n",
       "    </tr>\n",
       "  </thead>\n",
       "  <tbody>\n",
       "    <tr>\n",
       "      <th>0</th>\n",
       "      <td>-11.8070</td>\n",
       "      <td>142.0583</td>\n",
       "      <td>313.0</td>\n",
       "      <td>1.0</td>\n",
       "      <td>1</td>\n",
       "      <td>297.3</td>\n",
       "      <td>6.6</td>\n",
       "      <td>1</td>\n",
       "      <td>0</td>\n",
       "      <td>1</td>\n",
       "      <td>True</td>\n",
       "    </tr>\n",
       "    <tr>\n",
       "      <th>1</th>\n",
       "      <td>-11.7924</td>\n",
       "      <td>142.0850</td>\n",
       "      <td>319.3</td>\n",
       "      <td>1.0</td>\n",
       "      <td>1</td>\n",
       "      <td>297.3</td>\n",
       "      <td>11.3</td>\n",
       "      <td>1</td>\n",
       "      <td>0</td>\n",
       "      <td>1</td>\n",
       "      <td>True</td>\n",
       "    </tr>\n",
       "    <tr>\n",
       "      <th>2</th>\n",
       "      <td>-12.8398</td>\n",
       "      <td>132.8744</td>\n",
       "      <td>311.6</td>\n",
       "      <td>1.7</td>\n",
       "      <td>1</td>\n",
       "      <td>298.7</td>\n",
       "      <td>23.1</td>\n",
       "      <td>1</td>\n",
       "      <td>0</td>\n",
       "      <td>1</td>\n",
       "      <td>True</td>\n",
       "    </tr>\n",
       "    <tr>\n",
       "      <th>3</th>\n",
       "      <td>-14.4306</td>\n",
       "      <td>143.3035</td>\n",
       "      <td>310.1</td>\n",
       "      <td>1.1</td>\n",
       "      <td>1</td>\n",
       "      <td>296.1</td>\n",
       "      <td>6.5</td>\n",
       "      <td>1</td>\n",
       "      <td>0</td>\n",
       "      <td>1</td>\n",
       "      <td>True</td>\n",
       "    </tr>\n",
       "    <tr>\n",
       "      <th>4</th>\n",
       "      <td>-12.4953</td>\n",
       "      <td>131.4897</td>\n",
       "      <td>310.3</td>\n",
       "      <td>1.9</td>\n",
       "      <td>1</td>\n",
       "      <td>298.8</td>\n",
       "      <td>27.6</td>\n",
       "      <td>1</td>\n",
       "      <td>0</td>\n",
       "      <td>1</td>\n",
       "      <td>True</td>\n",
       "    </tr>\n",
       "  </tbody>\n",
       "</table>\n",
       "</div>"
      ],
      "text/plain": [
       "   latitude  longitude  brightness  track  satellite  bright_t31   frp  \\\n",
       "0  -11.8070   142.0583       313.0    1.0          1       297.3   6.6   \n",
       "1  -11.7924   142.0850       319.3    1.0          1       297.3  11.3   \n",
       "2  -12.8398   132.8744       311.6    1.7          1       298.7  23.1   \n",
       "3  -14.4306   143.3035       310.1    1.1          1       296.1   6.5   \n",
       "4  -12.4953   131.4897       310.3    1.9          1       298.8  27.6   \n",
       "\n",
       "   daynight  type  day  August  \n",
       "0         1     0    1    True  \n",
       "1         1     0    1    True  \n",
       "2         1     0    1    True  \n",
       "3         1     0    1    True  \n",
       "4         1     0    1    True  "
      ]
     },
     "execution_count": 18,
     "metadata": {},
     "output_type": "execute_result"
    }
   ],
   "source": [
    "forest.head()"
   ]
  },
  {
   "cell_type": "markdown",
   "id": "f3ccfb67",
   "metadata": {
    "papermill": {
     "duration": 0.022552,
     "end_time": "2024-01-17T22:58:18.796969",
     "exception": false,
     "start_time": "2024-01-17T22:58:18.774417",
     "status": "completed"
    },
    "tags": []
   },
   "source": [
    "### brightness column"
   ]
  },
  {
   "cell_type": "code",
   "execution_count": 19,
   "id": "7d2d330c",
   "metadata": {
    "execution": {
     "iopub.execute_input": "2024-01-17T22:58:18.843313Z",
     "iopub.status.busy": "2024-01-17T22:58:18.842908Z",
     "iopub.status.idle": "2024-01-17T22:58:18.858220Z",
     "shell.execute_reply": "2024-01-17T22:58:18.857027Z"
    },
    "papermill": {
     "duration": 0.042031,
     "end_time": "2024-01-17T22:58:18.860699",
     "exception": false,
     "start_time": "2024-01-17T22:58:18.818668",
     "status": "completed"
    },
    "tags": []
   },
   "outputs": [
    {
     "data": {
      "text/plain": [
       "0.00    300.0\n",
       "0.25    316.5\n",
       "0.75    336.7\n",
       "0.90    351.0\n",
       "Name: brightness, dtype: float64"
      ]
     },
     "execution_count": 19,
     "metadata": {},
     "output_type": "execute_result"
    }
   ],
   "source": [
    "forest['brightness'].quantile([0, 0.25, .75, .9])"
   ]
  },
  {
   "cell_type": "code",
   "execution_count": 20,
   "id": "3b634027",
   "metadata": {
    "execution": {
     "iopub.execute_input": "2024-01-17T22:58:18.907727Z",
     "iopub.status.busy": "2024-01-17T22:58:18.906840Z",
     "iopub.status.idle": "2024-01-17T22:58:18.950029Z",
     "shell.execute_reply": "2024-01-17T22:58:18.948822Z"
    },
    "papermill": {
     "duration": 0.069938,
     "end_time": "2024-01-17T22:58:18.952613",
     "exception": false,
     "start_time": "2024-01-17T22:58:18.882675",
     "status": "completed"
    },
    "tags": []
   },
   "outputs": [
    {
     "data": {
      "text/html": [
       "<div>\n",
       "<style scoped>\n",
       "    .dataframe tbody tr th:only-of-type {\n",
       "        vertical-align: middle;\n",
       "    }\n",
       "\n",
       "    .dataframe tbody tr th {\n",
       "        vertical-align: top;\n",
       "    }\n",
       "\n",
       "    .dataframe thead th {\n",
       "        text-align: right;\n",
       "    }\n",
       "</style>\n",
       "<table border=\"1\" class=\"dataframe\">\n",
       "  <thead>\n",
       "    <tr style=\"text-align: right;\">\n",
       "      <th></th>\n",
       "      <th>latitude</th>\n",
       "      <th>longitude</th>\n",
       "      <th>brightness</th>\n",
       "      <th>track</th>\n",
       "      <th>satellite</th>\n",
       "      <th>bright_t31</th>\n",
       "      <th>frp</th>\n",
       "      <th>daynight</th>\n",
       "      <th>type</th>\n",
       "      <th>day</th>\n",
       "      <th>August</th>\n",
       "      <th>brightness_temperature</th>\n",
       "    </tr>\n",
       "  </thead>\n",
       "  <tbody>\n",
       "    <tr>\n",
       "      <th>0</th>\n",
       "      <td>-11.8070</td>\n",
       "      <td>142.0583</td>\n",
       "      <td>313.0</td>\n",
       "      <td>1.0</td>\n",
       "      <td>1</td>\n",
       "      <td>297.3</td>\n",
       "      <td>6.6</td>\n",
       "      <td>1</td>\n",
       "      <td>0</td>\n",
       "      <td>1</td>\n",
       "      <td>True</td>\n",
       "      <td>0</td>\n",
       "    </tr>\n",
       "    <tr>\n",
       "      <th>1</th>\n",
       "      <td>-11.7924</td>\n",
       "      <td>142.0850</td>\n",
       "      <td>319.3</td>\n",
       "      <td>1.0</td>\n",
       "      <td>1</td>\n",
       "      <td>297.3</td>\n",
       "      <td>11.3</td>\n",
       "      <td>1</td>\n",
       "      <td>0</td>\n",
       "      <td>1</td>\n",
       "      <td>True</td>\n",
       "      <td>2</td>\n",
       "    </tr>\n",
       "    <tr>\n",
       "      <th>2</th>\n",
       "      <td>-12.8398</td>\n",
       "      <td>132.8744</td>\n",
       "      <td>311.6</td>\n",
       "      <td>1.7</td>\n",
       "      <td>1</td>\n",
       "      <td>298.7</td>\n",
       "      <td>23.1</td>\n",
       "      <td>1</td>\n",
       "      <td>0</td>\n",
       "      <td>1</td>\n",
       "      <td>True</td>\n",
       "      <td>0</td>\n",
       "    </tr>\n",
       "    <tr>\n",
       "      <th>3</th>\n",
       "      <td>-14.4306</td>\n",
       "      <td>143.3035</td>\n",
       "      <td>310.1</td>\n",
       "      <td>1.1</td>\n",
       "      <td>1</td>\n",
       "      <td>296.1</td>\n",
       "      <td>6.5</td>\n",
       "      <td>1</td>\n",
       "      <td>0</td>\n",
       "      <td>1</td>\n",
       "      <td>True</td>\n",
       "      <td>0</td>\n",
       "    </tr>\n",
       "    <tr>\n",
       "      <th>4</th>\n",
       "      <td>-12.4953</td>\n",
       "      <td>131.4897</td>\n",
       "      <td>310.3</td>\n",
       "      <td>1.9</td>\n",
       "      <td>1</td>\n",
       "      <td>298.8</td>\n",
       "      <td>27.6</td>\n",
       "      <td>1</td>\n",
       "      <td>0</td>\n",
       "      <td>1</td>\n",
       "      <td>True</td>\n",
       "      <td>0</td>\n",
       "    </tr>\n",
       "  </tbody>\n",
       "</table>\n",
       "</div>"
      ],
      "text/plain": [
       "   latitude  longitude  brightness  track  satellite  bright_t31   frp  \\\n",
       "0  -11.8070   142.0583       313.0    1.0          1       297.3   6.6   \n",
       "1  -11.7924   142.0850       319.3    1.0          1       297.3  11.3   \n",
       "2  -12.8398   132.8744       311.6    1.7          1       298.7  23.1   \n",
       "3  -14.4306   143.3035       310.1    1.1          1       296.1   6.5   \n",
       "4  -12.4953   131.4897       310.3    1.9          1       298.8  27.6   \n",
       "\n",
       "   daynight  type  day  August  brightness_temperature  \n",
       "0         1     0    1    True                       0  \n",
       "1         1     0    1    True                       2  \n",
       "2         1     0    1    True                       0  \n",
       "3         1     0    1    True                       0  \n",
       "4         1     0    1    True                       0  "
      ]
     },
     "execution_count": 20,
     "metadata": {},
     "output_type": "execute_result"
    }
   ],
   "source": [
    "def bright_categorize(brightness):\n",
    "     \n",
    "    if brightness < 316.5:\n",
    "        return 'Low'\n",
    "    elif 336.7 <= brightness <= 351.0:\n",
    "        return 'High'\n",
    "    else:\n",
    "        return 'Extreme'\n",
    "\n",
    "forest['brightness_temperature'] = forest['brightness'].apply(bright_categorize)\n",
    "forest['brightness_temperature'] = forest['brightness_temperature'].map({'Low':0, 'High':1, 'Extreme':2})\n",
    "forest.head()"
   ]
  },
  {
   "cell_type": "markdown",
   "id": "8189a6d2",
   "metadata": {
    "papermill": {
     "duration": 0.021773,
     "end_time": "2024-01-17T22:58:18.996644",
     "exception": false,
     "start_time": "2024-01-17T22:58:18.974871",
     "status": "completed"
    },
    "tags": []
   },
   "source": [
    "### dropping some of the highly correlated columns"
   ]
  },
  {
   "cell_type": "code",
   "execution_count": 21,
   "id": "9616c206",
   "metadata": {
    "execution": {
     "iopub.execute_input": "2024-01-17T22:58:19.043942Z",
     "iopub.status.busy": "2024-01-17T22:58:19.043512Z",
     "iopub.status.idle": "2024-01-17T22:58:19.052062Z",
     "shell.execute_reply": "2024-01-17T22:58:19.050809Z"
    },
    "papermill": {
     "duration": 0.035746,
     "end_time": "2024-01-17T22:58:19.054571",
     "exception": false,
     "start_time": "2024-01-17T22:58:19.018825",
     "status": "completed"
    },
    "tags": []
   },
   "outputs": [],
   "source": [
    "forest = forest.drop(['brightness'], axis = 1) "
   ]
  },
  {
   "cell_type": "markdown",
   "id": "7486f1a8",
   "metadata": {
    "papermill": {
     "duration": 0.023241,
     "end_time": "2024-01-17T22:58:19.100314",
     "exception": false,
     "start_time": "2024-01-17T22:58:19.077073",
     "status": "completed"
    },
    "tags": []
   },
   "source": [
    "### categorizing area"
   ]
  },
  {
   "cell_type": "code",
   "execution_count": 22,
   "id": "6d98a019",
   "metadata": {
    "execution": {
     "iopub.execute_input": "2024-01-17T22:58:19.150229Z",
     "iopub.status.busy": "2024-01-17T22:58:19.149684Z",
     "iopub.status.idle": "2024-01-17T22:58:19.826240Z",
     "shell.execute_reply": "2024-01-17T22:58:19.824682Z"
    },
    "papermill": {
     "duration": 0.706583,
     "end_time": "2024-01-17T22:58:19.830409",
     "exception": false,
     "start_time": "2024-01-17T22:58:19.123826",
     "status": "completed"
    },
    "tags": []
   },
   "outputs": [
    {
     "data": {
      "text/html": [
       "<div>\n",
       "<style scoped>\n",
       "    .dataframe tbody tr th:only-of-type {\n",
       "        vertical-align: middle;\n",
       "    }\n",
       "\n",
       "    .dataframe tbody tr th {\n",
       "        vertical-align: top;\n",
       "    }\n",
       "\n",
       "    .dataframe thead th {\n",
       "        text-align: right;\n",
       "    }\n",
       "</style>\n",
       "<table border=\"1\" class=\"dataframe\">\n",
       "  <thead>\n",
       "    <tr style=\"text-align: right;\">\n",
       "      <th></th>\n",
       "      <th>latitude</th>\n",
       "      <th>longitude</th>\n",
       "      <th>track</th>\n",
       "      <th>satellite</th>\n",
       "      <th>bright_t31</th>\n",
       "      <th>frp</th>\n",
       "      <th>daynight</th>\n",
       "      <th>type</th>\n",
       "      <th>day</th>\n",
       "      <th>August</th>\n",
       "      <th>brightness_temperature</th>\n",
       "      <th>Area of Fire</th>\n",
       "    </tr>\n",
       "  </thead>\n",
       "  <tbody>\n",
       "    <tr>\n",
       "      <th>0</th>\n",
       "      <td>-11.8070</td>\n",
       "      <td>142.0583</td>\n",
       "      <td>1.0</td>\n",
       "      <td>1</td>\n",
       "      <td>297.3</td>\n",
       "      <td>6.6</td>\n",
       "      <td>1</td>\n",
       "      <td>0</td>\n",
       "      <td>1</td>\n",
       "      <td>True</td>\n",
       "      <td>0</td>\n",
       "      <td>4</td>\n",
       "    </tr>\n",
       "    <tr>\n",
       "      <th>1</th>\n",
       "      <td>-11.7924</td>\n",
       "      <td>142.0850</td>\n",
       "      <td>1.0</td>\n",
       "      <td>1</td>\n",
       "      <td>297.3</td>\n",
       "      <td>11.3</td>\n",
       "      <td>1</td>\n",
       "      <td>0</td>\n",
       "      <td>1</td>\n",
       "      <td>True</td>\n",
       "      <td>2</td>\n",
       "      <td>4</td>\n",
       "    </tr>\n",
       "    <tr>\n",
       "      <th>2</th>\n",
       "      <td>-12.8398</td>\n",
       "      <td>132.8744</td>\n",
       "      <td>1.7</td>\n",
       "      <td>1</td>\n",
       "      <td>298.7</td>\n",
       "      <td>23.1</td>\n",
       "      <td>1</td>\n",
       "      <td>0</td>\n",
       "      <td>1</td>\n",
       "      <td>True</td>\n",
       "      <td>0</td>\n",
       "      <td>4</td>\n",
       "    </tr>\n",
       "    <tr>\n",
       "      <th>3</th>\n",
       "      <td>-14.4306</td>\n",
       "      <td>143.3035</td>\n",
       "      <td>1.1</td>\n",
       "      <td>1</td>\n",
       "      <td>296.1</td>\n",
       "      <td>6.5</td>\n",
       "      <td>1</td>\n",
       "      <td>0</td>\n",
       "      <td>1</td>\n",
       "      <td>True</td>\n",
       "      <td>0</td>\n",
       "      <td>4</td>\n",
       "    </tr>\n",
       "    <tr>\n",
       "      <th>4</th>\n",
       "      <td>-12.4953</td>\n",
       "      <td>131.4897</td>\n",
       "      <td>1.9</td>\n",
       "      <td>1</td>\n",
       "      <td>298.8</td>\n",
       "      <td>27.6</td>\n",
       "      <td>1</td>\n",
       "      <td>0</td>\n",
       "      <td>1</td>\n",
       "      <td>True</td>\n",
       "      <td>0</td>\n",
       "      <td>4</td>\n",
       "    </tr>\n",
       "  </tbody>\n",
       "</table>\n",
       "</div>"
      ],
      "text/plain": [
       "   latitude  longitude  track  satellite  bright_t31   frp  daynight  type  \\\n",
       "0  -11.8070   142.0583    1.0          1       297.3   6.6         1     0   \n",
       "1  -11.7924   142.0850    1.0          1       297.3  11.3         1     0   \n",
       "2  -12.8398   132.8744    1.7          1       298.7  23.1         1     0   \n",
       "3  -14.4306   143.3035    1.1          1       296.1   6.5         1     0   \n",
       "4  -12.4953   131.4897    1.9          1       298.8  27.6         1     0   \n",
       "\n",
       "   day  August  brightness_temperature  Area of Fire  \n",
       "0    1    True                       0             4  \n",
       "1    1    True                       2             4  \n",
       "2    1    True                       0             4  \n",
       "3    1    True                       0             4  \n",
       "4    1    True                       0             4  "
      ]
     },
     "execution_count": 22,
     "metadata": {},
     "output_type": "execute_result"
    }
   ],
   "source": [
    "def area_categorize(row):\n",
    "    longitude = row['longitude']\n",
    "    latitude = row['latitude']\n",
    "    \n",
    "    if longitude < 122.8051765 or -30.000233 < latitude < -25.760321:\n",
    "        return 'Western Australia'\n",
    "    elif 122.8051765 < longitude < 132.551000 or -20.917574 < latitude < 19.4914:\n",
    "        return 'Northern Territory'\n",
    "    elif 132.551000 < longitude < 136.209152 or -31.840233 < latitude < -30.000233:\n",
    "        return 'South Australia'\n",
    "    elif 144.964600 < longitude < 145.612793 or -37.020100 < latitude < -31.840233:\n",
    "        return 'New South Wales'\n",
    "    elif 142.702789 < longitude < 144.964600 or latitude < -37.020100:\n",
    "        return 'Victoria'\n",
    "    elif 136.209152 < longitude < 142.702789 or -25.760321 < latitude < -20.917574:\n",
    "        return 'Queensland'\n",
    "    else:\n",
    "        return 'Unidentified'\n",
    "\n",
    "forest['Area of Fire'] = forest.apply(area_categorize, axis=1)\n",
    "forest['Area of Fire'] = forest['Area of Fire'].map({'Western Australia':0, 'Queensland':1, 'South Australia':2, 'New South Wales':3, 'Northern Territory':4, 'Victoria':5, 'Unindentified':6})\n",
    "forest.head()"
   ]
  },
  {
   "cell_type": "code",
   "execution_count": 23,
   "id": "aee3e3f0",
   "metadata": {
    "execution": {
     "iopub.execute_input": "2024-01-17T22:58:19.889245Z",
     "iopub.status.busy": "2024-01-17T22:58:19.888542Z",
     "iopub.status.idle": "2024-01-17T22:58:19.894577Z",
     "shell.execute_reply": "2024-01-17T22:58:19.893231Z"
    },
    "papermill": {
     "duration": 0.04086,
     "end_time": "2024-01-17T22:58:19.898137",
     "exception": false,
     "start_time": "2024-01-17T22:58:19.857277",
     "status": "completed"
    },
    "tags": []
   },
   "outputs": [],
   "source": [
    "# plt.figure(figsize=(10, 10))\n",
    "# sns.heatmap(forest.corr(),annot=True,cmap='viridis',linewidths=.5)"
   ]
  },
  {
   "cell_type": "code",
   "execution_count": 24,
   "id": "add12842",
   "metadata": {
    "execution": {
     "iopub.execute_input": "2024-01-17T22:58:19.951322Z",
     "iopub.status.busy": "2024-01-17T22:58:19.949866Z",
     "iopub.status.idle": "2024-01-17T22:58:19.955079Z",
     "shell.execute_reply": "2024-01-17T22:58:19.954132Z"
    },
    "papermill": {
     "duration": 0.032615,
     "end_time": "2024-01-17T22:58:19.957555",
     "exception": false,
     "start_time": "2024-01-17T22:58:19.924940",
     "status": "completed"
    },
    "tags": []
   },
   "outputs": [],
   "source": [
    "# forest = forest.drop(['longitude', 'latitude'], axis = 1) ## makes score much worse"
   ]
  },
  {
   "cell_type": "code",
   "execution_count": 25,
   "id": "e769c628",
   "metadata": {
    "execution": {
     "iopub.execute_input": "2024-01-17T22:58:20.006449Z",
     "iopub.status.busy": "2024-01-17T22:58:20.005715Z",
     "iopub.status.idle": "2024-01-17T22:58:20.026551Z",
     "shell.execute_reply": "2024-01-17T22:58:20.025173Z"
    },
    "papermill": {
     "duration": 0.04874,
     "end_time": "2024-01-17T22:58:20.029438",
     "exception": false,
     "start_time": "2024-01-17T22:58:19.980698",
     "status": "completed"
    },
    "tags": []
   },
   "outputs": [
    {
     "name": "stdout",
     "output_type": "stream",
     "text": [
      "(36011, 12)\n"
     ]
    },
    {
     "data": {
      "text/html": [
       "<div>\n",
       "<style scoped>\n",
       "    .dataframe tbody tr th:only-of-type {\n",
       "        vertical-align: middle;\n",
       "    }\n",
       "\n",
       "    .dataframe tbody tr th {\n",
       "        vertical-align: top;\n",
       "    }\n",
       "\n",
       "    .dataframe thead th {\n",
       "        text-align: right;\n",
       "    }\n",
       "</style>\n",
       "<table border=\"1\" class=\"dataframe\">\n",
       "  <thead>\n",
       "    <tr style=\"text-align: right;\">\n",
       "      <th></th>\n",
       "      <th>latitude</th>\n",
       "      <th>longitude</th>\n",
       "      <th>track</th>\n",
       "      <th>satellite</th>\n",
       "      <th>bright_t31</th>\n",
       "      <th>frp</th>\n",
       "      <th>daynight</th>\n",
       "      <th>type</th>\n",
       "      <th>day</th>\n",
       "      <th>August</th>\n",
       "      <th>brightness_temperature</th>\n",
       "      <th>Area of Fire</th>\n",
       "    </tr>\n",
       "  </thead>\n",
       "  <tbody>\n",
       "    <tr>\n",
       "      <th>0</th>\n",
       "      <td>-11.8070</td>\n",
       "      <td>142.0583</td>\n",
       "      <td>1.0</td>\n",
       "      <td>1</td>\n",
       "      <td>297.3</td>\n",
       "      <td>6.6</td>\n",
       "      <td>1</td>\n",
       "      <td>0</td>\n",
       "      <td>1</td>\n",
       "      <td>True</td>\n",
       "      <td>0</td>\n",
       "      <td>4</td>\n",
       "    </tr>\n",
       "    <tr>\n",
       "      <th>1</th>\n",
       "      <td>-11.7924</td>\n",
       "      <td>142.0850</td>\n",
       "      <td>1.0</td>\n",
       "      <td>1</td>\n",
       "      <td>297.3</td>\n",
       "      <td>11.3</td>\n",
       "      <td>1</td>\n",
       "      <td>0</td>\n",
       "      <td>1</td>\n",
       "      <td>True</td>\n",
       "      <td>2</td>\n",
       "      <td>4</td>\n",
       "    </tr>\n",
       "    <tr>\n",
       "      <th>2</th>\n",
       "      <td>-12.8398</td>\n",
       "      <td>132.8744</td>\n",
       "      <td>1.7</td>\n",
       "      <td>1</td>\n",
       "      <td>298.7</td>\n",
       "      <td>23.1</td>\n",
       "      <td>1</td>\n",
       "      <td>0</td>\n",
       "      <td>1</td>\n",
       "      <td>True</td>\n",
       "      <td>0</td>\n",
       "      <td>4</td>\n",
       "    </tr>\n",
       "    <tr>\n",
       "      <th>3</th>\n",
       "      <td>-14.4306</td>\n",
       "      <td>143.3035</td>\n",
       "      <td>1.1</td>\n",
       "      <td>1</td>\n",
       "      <td>296.1</td>\n",
       "      <td>6.5</td>\n",
       "      <td>1</td>\n",
       "      <td>0</td>\n",
       "      <td>1</td>\n",
       "      <td>True</td>\n",
       "      <td>0</td>\n",
       "      <td>4</td>\n",
       "    </tr>\n",
       "    <tr>\n",
       "      <th>4</th>\n",
       "      <td>-12.4953</td>\n",
       "      <td>131.4897</td>\n",
       "      <td>1.9</td>\n",
       "      <td>1</td>\n",
       "      <td>298.8</td>\n",
       "      <td>27.6</td>\n",
       "      <td>1</td>\n",
       "      <td>0</td>\n",
       "      <td>1</td>\n",
       "      <td>True</td>\n",
       "      <td>0</td>\n",
       "      <td>4</td>\n",
       "    </tr>\n",
       "  </tbody>\n",
       "</table>\n",
       "</div>"
      ],
      "text/plain": [
       "   latitude  longitude  track  satellite  bright_t31   frp  daynight  type  \\\n",
       "0  -11.8070   142.0583    1.0          1       297.3   6.6         1     0   \n",
       "1  -11.7924   142.0850    1.0          1       297.3  11.3         1     0   \n",
       "2  -12.8398   132.8744    1.7          1       298.7  23.1         1     0   \n",
       "3  -14.4306   143.3035    1.1          1       296.1   6.5         1     0   \n",
       "4  -12.4953   131.4897    1.9          1       298.8  27.6         1     0   \n",
       "\n",
       "   day  August  brightness_temperature  Area of Fire  \n",
       "0    1    True                       0             4  \n",
       "1    1    True                       2             4  \n",
       "2    1    True                       0             4  \n",
       "3    1    True                       0             4  \n",
       "4    1    True                       0             4  "
      ]
     },
     "execution_count": 25,
     "metadata": {},
     "output_type": "execute_result"
    }
   ],
   "source": [
    "print(forest.shape)\n",
    "forest.head()"
   ]
  },
  {
   "cell_type": "code",
   "execution_count": 26,
   "id": "510c476c",
   "metadata": {
    "execution": {
     "iopub.execute_input": "2024-01-17T22:58:20.090435Z",
     "iopub.status.busy": "2024-01-17T22:58:20.089922Z",
     "iopub.status.idle": "2024-01-17T22:58:20.095325Z",
     "shell.execute_reply": "2024-01-17T22:58:20.094169Z"
    },
    "executionInfo": {
     "elapsed": 1350,
     "status": "ok",
     "timestamp": 1624466640812,
     "user": {
      "displayName": "siddharth patra",
      "photoUrl": "https://lh3.googleusercontent.com/a-/AOh14Gjnwsdj5DKa95WHRl25dlQz9L1Bbc10vap4xTNIiA=s64",
      "userId": "01966341811263607507"
     },
     "user_tz": -330
    },
    "id": "P2WANxh0g10m",
    "outputId": "c8006555-4616-4884-d3c7-e222d7d760de",
    "papermill": {
     "duration": 0.039879,
     "end_time": "2024-01-17T22:58:20.099114",
     "exception": false,
     "start_time": "2024-01-17T22:58:20.059235",
     "status": "completed"
    },
    "tags": []
   },
   "outputs": [],
   "source": [
    "# plt.figure(figsize=(10, 10))\n",
    "# sns.heatmap(forest.corr(),annot=True,cmap='viridis',linewidths=.5)"
   ]
  },
  {
   "cell_type": "markdown",
   "id": "9147ec60",
   "metadata": {
    "papermill": {
     "duration": 0.027608,
     "end_time": "2024-01-17T22:58:20.159230",
     "exception": false,
     "start_time": "2024-01-17T22:58:20.131622",
     "status": "completed"
    },
    "tags": []
   },
   "source": [
    "### PCA for brightness_temperature, bright_t31, daynight"
   ]
  },
  {
   "cell_type": "code",
   "execution_count": 27,
   "id": "f7872fa9",
   "metadata": {
    "execution": {
     "iopub.execute_input": "2024-01-17T22:58:20.209411Z",
     "iopub.status.busy": "2024-01-17T22:58:20.208598Z",
     "iopub.status.idle": "2024-01-17T22:58:20.769669Z",
     "shell.execute_reply": "2024-01-17T22:58:20.768001Z"
    },
    "papermill": {
     "duration": 0.591105,
     "end_time": "2024-01-17T22:58:20.774830",
     "exception": false,
     "start_time": "2024-01-17T22:58:20.183725",
     "status": "completed"
    },
    "tags": []
   },
   "outputs": [
    {
     "data": {
      "text/html": [
       "<div>\n",
       "<style scoped>\n",
       "    .dataframe tbody tr th:only-of-type {\n",
       "        vertical-align: middle;\n",
       "    }\n",
       "\n",
       "    .dataframe tbody tr th {\n",
       "        vertical-align: top;\n",
       "    }\n",
       "\n",
       "    .dataframe thead th {\n",
       "        text-align: right;\n",
       "    }\n",
       "</style>\n",
       "<table border=\"1\" class=\"dataframe\">\n",
       "  <thead>\n",
       "    <tr style=\"text-align: right;\">\n",
       "      <th></th>\n",
       "      <th>latitude</th>\n",
       "      <th>longitude</th>\n",
       "      <th>track</th>\n",
       "      <th>satellite</th>\n",
       "      <th>bright_t31</th>\n",
       "      <th>frp</th>\n",
       "      <th>daynight</th>\n",
       "      <th>type</th>\n",
       "      <th>day</th>\n",
       "      <th>August</th>\n",
       "      <th>brightness_temperature</th>\n",
       "      <th>Area of Fire</th>\n",
       "      <th>PC1</th>\n",
       "    </tr>\n",
       "  </thead>\n",
       "  <tbody>\n",
       "    <tr>\n",
       "      <th>0</th>\n",
       "      <td>-11.8070</td>\n",
       "      <td>142.0583</td>\n",
       "      <td>1.0</td>\n",
       "      <td>1</td>\n",
       "      <td>297.3</td>\n",
       "      <td>6.6</td>\n",
       "      <td>1</td>\n",
       "      <td>0</td>\n",
       "      <td>1</td>\n",
       "      <td>True</td>\n",
       "      <td>0</td>\n",
       "      <td>4</td>\n",
       "      <td>-0.787224</td>\n",
       "    </tr>\n",
       "    <tr>\n",
       "      <th>1</th>\n",
       "      <td>-11.7924</td>\n",
       "      <td>142.0850</td>\n",
       "      <td>1.0</td>\n",
       "      <td>1</td>\n",
       "      <td>297.3</td>\n",
       "      <td>11.3</td>\n",
       "      <td>1</td>\n",
       "      <td>0</td>\n",
       "      <td>1</td>\n",
       "      <td>True</td>\n",
       "      <td>2</td>\n",
       "      <td>4</td>\n",
       "      <td>0.470017</td>\n",
       "    </tr>\n",
       "    <tr>\n",
       "      <th>2</th>\n",
       "      <td>-12.8398</td>\n",
       "      <td>132.8744</td>\n",
       "      <td>1.7</td>\n",
       "      <td>1</td>\n",
       "      <td>298.7</td>\n",
       "      <td>23.1</td>\n",
       "      <td>1</td>\n",
       "      <td>0</td>\n",
       "      <td>1</td>\n",
       "      <td>True</td>\n",
       "      <td>0</td>\n",
       "      <td>4</td>\n",
       "      <td>-0.700585</td>\n",
       "    </tr>\n",
       "    <tr>\n",
       "      <th>3</th>\n",
       "      <td>-14.4306</td>\n",
       "      <td>143.3035</td>\n",
       "      <td>1.1</td>\n",
       "      <td>1</td>\n",
       "      <td>296.1</td>\n",
       "      <td>6.5</td>\n",
       "      <td>1</td>\n",
       "      <td>0</td>\n",
       "      <td>1</td>\n",
       "      <td>True</td>\n",
       "      <td>0</td>\n",
       "      <td>4</td>\n",
       "      <td>-0.861487</td>\n",
       "    </tr>\n",
       "    <tr>\n",
       "      <th>4</th>\n",
       "      <td>-12.4953</td>\n",
       "      <td>131.4897</td>\n",
       "      <td>1.9</td>\n",
       "      <td>1</td>\n",
       "      <td>298.8</td>\n",
       "      <td>27.6</td>\n",
       "      <td>1</td>\n",
       "      <td>0</td>\n",
       "      <td>1</td>\n",
       "      <td>True</td>\n",
       "      <td>0</td>\n",
       "      <td>4</td>\n",
       "      <td>-0.694396</td>\n",
       "    </tr>\n",
       "  </tbody>\n",
       "</table>\n",
       "</div>"
      ],
      "text/plain": [
       "   latitude  longitude  track  satellite  bright_t31   frp  daynight  type  \\\n",
       "0  -11.8070   142.0583    1.0          1       297.3   6.6         1     0   \n",
       "1  -11.7924   142.0850    1.0          1       297.3  11.3         1     0   \n",
       "2  -12.8398   132.8744    1.7          1       298.7  23.1         1     0   \n",
       "3  -14.4306   143.3035    1.1          1       296.1   6.5         1     0   \n",
       "4  -12.4953   131.4897    1.9          1       298.8  27.6         1     0   \n",
       "\n",
       "   day  August  brightness_temperature  Area of Fire       PC1  \n",
       "0    1    True                       0             4 -0.787224  \n",
       "1    1    True                       2             4  0.470017  \n",
       "2    1    True                       0             4 -0.700585  \n",
       "3    1    True                       0             4 -0.861487  \n",
       "4    1    True                       0             4 -0.694396  "
      ]
     },
     "execution_count": 27,
     "metadata": {},
     "output_type": "execute_result"
    }
   ],
   "source": [
    "from sklearn.decomposition import PCA\n",
    "from sklearn.preprocessing import StandardScaler\n",
    "\n",
    "columns_for_pca = ['brightness_temperature', 'bright_t31', 'daynight']\n",
    "\n",
    "data_for_pca = forest[columns_for_pca]\n",
    "\n",
    "scaler = StandardScaler()\n",
    "data_for_pca_scaled = scaler.fit_transform(data_for_pca)\n",
    "\n",
    "pca = PCA(n_components=1)\n",
    "\n",
    "principal_components = pca.fit_transform(data_for_pca_scaled)\n",
    "\n",
    "columns_pca = [f'PC{i+1}' for i in range(pca.n_components_)]\n",
    "principal_components_df = pd.DataFrame(data=principal_components, columns=columns_pca)\n",
    "\n",
    "forest = pd.concat([forest, principal_components_df], axis=1)\n",
    "\n",
    "\n",
    "forest.head()"
   ]
  },
  {
   "cell_type": "code",
   "execution_count": 28,
   "id": "e78bd102",
   "metadata": {
    "execution": {
     "iopub.execute_input": "2024-01-17T22:58:20.866292Z",
     "iopub.status.busy": "2024-01-17T22:58:20.865876Z",
     "iopub.status.idle": "2024-01-17T22:58:20.875004Z",
     "shell.execute_reply": "2024-01-17T22:58:20.873970Z"
    },
    "papermill": {
     "duration": 0.048888,
     "end_time": "2024-01-17T22:58:20.877596",
     "exception": false,
     "start_time": "2024-01-17T22:58:20.828708",
     "status": "completed"
    },
    "tags": []
   },
   "outputs": [],
   "source": [
    "forest = forest.drop(['bright_t31','daynight','brightness_temperature'], axis =1)"
   ]
  },
  {
   "cell_type": "code",
   "execution_count": 29,
   "id": "564e4d5f",
   "metadata": {
    "execution": {
     "iopub.execute_input": "2024-01-17T22:58:20.926983Z",
     "iopub.status.busy": "2024-01-17T22:58:20.926552Z",
     "iopub.status.idle": "2024-01-17T22:58:21.753424Z",
     "shell.execute_reply": "2024-01-17T22:58:21.752144Z"
    },
    "papermill": {
     "duration": 0.854854,
     "end_time": "2024-01-17T22:58:21.756296",
     "exception": false,
     "start_time": "2024-01-17T22:58:20.901442",
     "status": "completed"
    },
    "tags": []
   },
   "outputs": [
    {
     "data": {
      "text/plain": [
       "<Axes: >"
      ]
     },
     "execution_count": 29,
     "metadata": {},
     "output_type": "execute_result"
    },
    {
     "data": {
      "image/png": "[encoded data removed]",
      "text/plain": [
       "<Figure size 1000x1000 with 2 Axes>"
      ]
     },
     "metadata": {},
     "output_type": "display_data"
    }
   ],
   "source": [
    "plt.figure(figsize=(10, 10))\n",
    "sns.heatmap(forest.corr(),annot=True,cmap='viridis',linewidths=.5)"
   ]
  },
  {
   "cell_type": "code",
   "execution_count": 30,
   "id": "30b201b8",
   "metadata": {
    "execution": {
     "iopub.execute_input": "2024-01-17T22:58:21.810623Z",
     "iopub.status.busy": "2024-01-17T22:58:21.809669Z",
     "iopub.status.idle": "2024-01-17T22:58:21.828584Z",
     "shell.execute_reply": "2024-01-17T22:58:21.827590Z"
    },
    "papermill": {
     "duration": 0.049359,
     "end_time": "2024-01-17T22:58:21.831055",
     "exception": false,
     "start_time": "2024-01-17T22:58:21.781696",
     "status": "completed"
    },
    "tags": []
   },
   "outputs": [
    {
     "data": {
      "text/html": [
       "<div>\n",
       "<style scoped>\n",
       "    .dataframe tbody tr th:only-of-type {\n",
       "        vertical-align: middle;\n",
       "    }\n",
       "\n",
       "    .dataframe tbody tr th {\n",
       "        vertical-align: top;\n",
       "    }\n",
       "\n",
       "    .dataframe thead th {\n",
       "        text-align: right;\n",
       "    }\n",
       "</style>\n",
       "<table border=\"1\" class=\"dataframe\">\n",
       "  <thead>\n",
       "    <tr style=\"text-align: right;\">\n",
       "      <th></th>\n",
       "      <th>latitude</th>\n",
       "      <th>longitude</th>\n",
       "      <th>track</th>\n",
       "      <th>satellite</th>\n",
       "      <th>frp</th>\n",
       "      <th>type</th>\n",
       "      <th>day</th>\n",
       "      <th>August</th>\n",
       "      <th>Area of Fire</th>\n",
       "      <th>PC1</th>\n",
       "    </tr>\n",
       "  </thead>\n",
       "  <tbody>\n",
       "    <tr>\n",
       "      <th>0</th>\n",
       "      <td>-11.8070</td>\n",
       "      <td>142.0583</td>\n",
       "      <td>1.0</td>\n",
       "      <td>1</td>\n",
       "      <td>6.6</td>\n",
       "      <td>0</td>\n",
       "      <td>1</td>\n",
       "      <td>True</td>\n",
       "      <td>4</td>\n",
       "      <td>-0.787224</td>\n",
       "    </tr>\n",
       "    <tr>\n",
       "      <th>1</th>\n",
       "      <td>-11.7924</td>\n",
       "      <td>142.0850</td>\n",
       "      <td>1.0</td>\n",
       "      <td>1</td>\n",
       "      <td>11.3</td>\n",
       "      <td>0</td>\n",
       "      <td>1</td>\n",
       "      <td>True</td>\n",
       "      <td>4</td>\n",
       "      <td>0.470017</td>\n",
       "    </tr>\n",
       "    <tr>\n",
       "      <th>2</th>\n",
       "      <td>-12.8398</td>\n",
       "      <td>132.8744</td>\n",
       "      <td>1.7</td>\n",
       "      <td>1</td>\n",
       "      <td>23.1</td>\n",
       "      <td>0</td>\n",
       "      <td>1</td>\n",
       "      <td>True</td>\n",
       "      <td>4</td>\n",
       "      <td>-0.700585</td>\n",
       "    </tr>\n",
       "    <tr>\n",
       "      <th>3</th>\n",
       "      <td>-14.4306</td>\n",
       "      <td>143.3035</td>\n",
       "      <td>1.1</td>\n",
       "      <td>1</td>\n",
       "      <td>6.5</td>\n",
       "      <td>0</td>\n",
       "      <td>1</td>\n",
       "      <td>True</td>\n",
       "      <td>4</td>\n",
       "      <td>-0.861487</td>\n",
       "    </tr>\n",
       "    <tr>\n",
       "      <th>4</th>\n",
       "      <td>-12.4953</td>\n",
       "      <td>131.4897</td>\n",
       "      <td>1.9</td>\n",
       "      <td>1</td>\n",
       "      <td>27.6</td>\n",
       "      <td>0</td>\n",
       "      <td>1</td>\n",
       "      <td>True</td>\n",
       "      <td>4</td>\n",
       "      <td>-0.694396</td>\n",
       "    </tr>\n",
       "  </tbody>\n",
       "</table>\n",
       "</div>"
      ],
      "text/plain": [
       "   latitude  longitude  track  satellite   frp  type  day  August  \\\n",
       "0  -11.8070   142.0583    1.0          1   6.6     0    1    True   \n",
       "1  -11.7924   142.0850    1.0          1  11.3     0    1    True   \n",
       "2  -12.8398   132.8744    1.7          1  23.1     0    1    True   \n",
       "3  -14.4306   143.3035    1.1          1   6.5     0    1    True   \n",
       "4  -12.4953   131.4897    1.9          1  27.6     0    1    True   \n",
       "\n",
       "   Area of Fire       PC1  \n",
       "0             4 -0.787224  \n",
       "1             4  0.470017  \n",
       "2             4 -0.700585  \n",
       "3             4 -0.861487  \n",
       "4             4 -0.694396  "
      ]
     },
     "execution_count": 30,
     "metadata": {},
     "output_type": "execute_result"
    }
   ],
   "source": [
    "forest.head()"
   ]
  },
  {
   "cell_type": "markdown",
   "id": "c72d96b3",
   "metadata": {
    "papermill": {
     "duration": 0.026342,
     "end_time": "2024-01-17T22:58:21.883066",
     "exception": false,
     "start_time": "2024-01-17T22:58:21.856724",
     "status": "completed"
    },
    "tags": []
   },
   "source": [
    "## models"
   ]
  },
  {
   "cell_type": "code",
   "execution_count": 31,
   "id": "3c8fc6a9",
   "metadata": {
    "execution": {
     "iopub.execute_input": "2024-01-17T22:58:21.937252Z",
     "iopub.status.busy": "2024-01-17T22:58:21.936821Z",
     "iopub.status.idle": "2024-01-17T22:58:21.942198Z",
     "shell.execute_reply": "2024-01-17T22:58:21.940818Z"
    },
    "papermill": {
     "duration": 0.035916,
     "end_time": "2024-01-17T22:58:21.944932",
     "exception": false,
     "start_time": "2024-01-17T22:58:21.909016",
     "status": "completed"
    },
    "tags": []
   },
   "outputs": [],
   "source": [
    "#                  Model  R^2 Score\n",
    "# 0   RandomForestRegressor   0.659779\n",
    "# 1            XGBRegressor   0.676966\n",
    "# 2   DecisionTreeRegressor   0.358149\n",
    "# 3       CatBoostRegressor   0.680053\n",
    "# 4           LGBMRegressor   0.669609\n",
    "# 5                   Ridge   0.444760\n",
    "# 6              ElasticNet   0.402565\n",
    "# 7        LinearRegression   0.444743\n",
    "# 8          HuberRegressor   0.394670\n",
    "# 9         RANSACRegressor   0.070776\n",
    "# 10                    SVR   0.207761"
   ]
  },
  {
   "cell_type": "markdown",
   "id": "f8c6bf95",
   "metadata": {
    "papermill": {
     "duration": 0.026572,
     "end_time": "2024-01-17T22:58:21.999589",
     "exception": false,
     "start_time": "2024-01-17T22:58:21.973017",
     "status": "completed"
    },
    "tags": []
   },
   "source": [
    "### catboost"
   ]
  },
  {
   "cell_type": "code",
   "execution_count": 32,
   "id": "7b79b168",
   "metadata": {
    "execution": {
     "iopub.execute_input": "2024-01-17T22:58:22.055689Z",
     "iopub.status.busy": "2024-01-17T22:58:22.055264Z",
     "iopub.status.idle": "2024-01-17T22:58:22.510963Z",
     "shell.execute_reply": "2024-01-17T22:58:22.509851Z"
    },
    "papermill": {
     "duration": 0.487652,
     "end_time": "2024-01-17T22:58:22.513810",
     "exception": false,
     "start_time": "2024-01-17T22:58:22.026158",
     "status": "completed"
    },
    "tags": []
   },
   "outputs": [],
   "source": [
    "from catboost import CatBoostRegressor\n",
    "cat_model = CatBoostRegressor(iterations=1500, depth=10, learning_rate=0.05, loss_function='RMSE', random_seed=42, verbose= False)\n",
    "# cat_model = CatBoostRegressor(verbose = False) # Overall R2 Score: 0.6805733998479097\n",
    "\n",
    "\n",
    "# CatBoost - Number of finished trials:  100\n",
    "# Best trial:\n",
    "# Value:  0.6406311794233024\n",
    "# Params: \n",
    "#     iterations: 856\n",
    "#     learning_rate: 0.02701105826591619\n",
    "#     depth: 8"
   ]
  },
  {
   "cell_type": "code",
   "execution_count": 33,
   "id": "3e0e60d8",
   "metadata": {
    "execution": {
     "iopub.execute_input": "2024-01-17T22:58:22.569202Z",
     "iopub.status.busy": "2024-01-17T22:58:22.568567Z",
     "iopub.status.idle": "2024-01-17T22:58:22.574765Z",
     "shell.execute_reply": "2024-01-17T22:58:22.573315Z"
    },
    "papermill": {
     "duration": 0.037574,
     "end_time": "2024-01-17T22:58:22.577744",
     "exception": false,
     "start_time": "2024-01-17T22:58:22.540170",
     "status": "completed"
    },
    "tags": []
   },
   "outputs": [],
   "source": [
    "# from sklearn.model_selection import KFold\n",
    "# from sklearn.metrics import r2_score\n",
    "\n",
    "# kf = KFold(n_splits=5, shuffle=True, random_state=42)\n",
    "\n",
    "# predictions = np.zeros(len(forest))\n",
    "\n",
    "# for train_index, test_index in kf.split(forest):\n",
    "#     X_train, X_test = forest.iloc[train_index], forest.iloc[test_index]\n",
    "#     y_train, y_test = y.iloc[train_index], y.iloc[test_index]\n",
    "\n",
    "#     cat_model.fit(X_train, y_train)\n",
    "#     fold_preds = cat_model.predict(X_test)\n",
    "#     fold_r2 = r2_score(y_test, fold_preds)\n",
    "#     print(f\"R2 Score for this fold: {fold_r2}\")\n",
    "\n",
    "#     predictions[test_index] += fold_preds\n",
    "\n",
    "# final_r2 = r2_score(y, predictions)\n",
    "# print(f\"\\nOverall R2 Score: {final_r2}\")\n",
    "\n",
    "# # with type_2, type_3 cols: 69.6\n",
    "# # no preprocessing on type: Overall R2 Score: 0.6968078601663359\n",
    "# # with true / false on type: Overall R2 Score: 0.696181835132154\n",
    "\n",
    "# # removed preprocessing from Month column: same result as best one in previous col\n",
    "\n",
    "# # removed preprocessing from Regions column: Overall R2 Score: 0.6968506062929187\n",
    "\n",
    "# # trying with week column instead of day: much worse score\n",
    "# # trying with week column instead of day, but didnt drop day this time: Overall R2 Score: 0.6966895236667476\n"
   ]
  },
  {
   "cell_type": "markdown",
   "id": "0908fe8a",
   "metadata": {
    "papermill": {
     "duration": 0.026793,
     "end_time": "2024-01-17T22:58:22.631505",
     "exception": false,
     "start_time": "2024-01-17T22:58:22.604712",
     "status": "completed"
    },
    "tags": []
   },
   "source": [
    "### voting regressor"
   ]
  },
  {
   "cell_type": "code",
   "execution_count": 34,
   "id": "16bbbb85",
   "metadata": {
    "execution": {
     "iopub.execute_input": "2024-01-17T22:58:22.688673Z",
     "iopub.status.busy": "2024-01-17T22:58:22.687898Z",
     "iopub.status.idle": "2024-01-17T23:03:02.669839Z",
     "shell.execute_reply": "2024-01-17T23:03:02.668878Z"
    },
    "papermill": {
     "duration": 280.039626,
     "end_time": "2024-01-17T23:03:02.698905",
     "exception": false,
     "start_time": "2024-01-17T22:58:22.659279",
     "status": "completed"
    },
    "tags": []
   },
   "outputs": [
    {
     "name": "stdout",
     "output_type": "stream",
     "text": [
      "R2 Score for this fold: 0.7164302627795743\n",
      "R2 Score for this fold: 0.6980834125172858\n",
      "R2 Score for this fold: 0.688432744869425\n",
      "R2 Score for this fold: 0.7023873660850692\n",
      "R2 Score for this fold: 0.6991525915221923\n",
      "\n",
      "Overall R2 Score: 0.7009705410740779\n"
     ]
    }
   ],
   "source": [
    "from sklearn.ensemble import VotingRegressor\n",
    "from xgboost import XGBRegressor\n",
    "from catboost import CatBoostRegressor\n",
    "import lightgbm as lgb\n",
    "from sklearn.model_selection import KFold\n",
    "from sklearn.metrics import r2_score\n",
    "import numpy as np\n",
    "\n",
    "# Assuming you have your 'forest' and 'y' dataframes\n",
    "\n",
    "# Create instances of CatBoostRegressor, XGBRegressor, and LGBMRegressor with similar hyperparameters\n",
    "cat_model = CatBoostRegressor(iterations=1500, depth=10, learning_rate=0.05, loss_function='RMSE', random_seed=42, verbose=False)\n",
    "xgb_model = XGBRegressor(n_estimators=1500, max_depth=10, learning_rate=0.05, objective='reg:squarederror', random_state=42, verbosity=0)\n",
    "lgb_model = lgb.LGBMRegressor(n_estimators=1500, max_depth=10, learning_rate=0.05, objective='regression', random_state=42)\n",
    "\n",
    "# Create a list of base models\n",
    "base_models = [('cat', cat_model), ('xgb', xgb_model), ('lgb', lgb_model)]\n",
    "\n",
    "# Create an instance of VotingRegressor with multiple base models\n",
    "voting_model = VotingRegressor(base_models)\n",
    "\n",
    "kf = KFold(n_splits=5, shuffle=True, random_state=42)\n",
    "\n",
    "predictions = np.zeros(len(forest))\n",
    "\n",
    "for train_index, test_index in kf.split(forest):\n",
    "    X_train, X_test = forest.iloc[train_index], forest.iloc[test_index]\n",
    "    y_train, y_test = y.iloc[train_index], y.iloc[test_index]\n",
    "\n",
    "    voting_model.fit(X_train, y_train)\n",
    "    fold_preds = voting_model.predict(X_test)\n",
    "    fold_r2 = r2_score(y_test, fold_preds)\n",
    "    print(f\"R2 Score for this fold: {fold_r2}\")\n",
    "\n",
    "    predictions[test_index] += fold_preds\n",
    "\n",
    "final_r2 = r2_score(y, predictions)\n",
    "print(f\"\\nOverall R2 Score: {final_r2}\")\n",
    "\n",
    "#  Overall R2 Score: 0.7009705410740779\n",
    "# # cat_model = CatBoostRegressor(iterations=1500, depth=10, learning_rate=0.05, loss_function='RMSE', random_seed=42, verbose=False)\n",
    "# # xgb_model = XGBRegressor(n_estimators=1500, max_depth=10, learning_rate=0.05, objective='reg:squarederror', random_state=42, verbosity=0)\n",
    "# # lgb_model = lgb.LGBMRegressor(n_estimators=1500, max_depth=10, learning_rate=0.05, objective='regression', random_state=42)\n",
    "# # base_models = [('cat', cat_model), ('xgb', xgb_model), ('lgb', lgb_model)]\n",
    "# # voting_model = VotingRegressor(base_models)"
   ]
  },
  {
   "cell_type": "code",
   "execution_count": 35,
   "id": "fc99de08",
   "metadata": {
    "execution": {
     "iopub.execute_input": "2024-01-17T23:03:02.757022Z",
     "iopub.status.busy": "2024-01-17T23:03:02.755808Z",
     "iopub.status.idle": "2024-01-17T23:03:02.762685Z",
     "shell.execute_reply": "2024-01-17T23:03:02.761310Z"
    },
    "papermill": {
     "duration": 0.038866,
     "end_time": "2024-01-17T23:03:02.765960",
     "exception": false,
     "start_time": "2024-01-17T23:03:02.727094",
     "status": "completed"
    },
    "tags": []
   },
   "outputs": [],
   "source": [
    "# from sklearn.ensemble import VotingRegressor, RandomForestRegressor, BaggingRegressor\n",
    "# from xgboost import XGBRegressor\n",
    "# from catboost import CatBoostRegressor\n",
    "# import lightgbm as lgb\n",
    "# from sklearn.model_selection import KFold\n",
    "# from sklearn.metrics import r2_score\n",
    "# import numpy as np\n",
    "\n",
    "# # Assuming you have your 'forest' and 'y' dataframes\n",
    "\n",
    "# # Create instances of CatBoostRegressor, XGBRegressor, LGBMRegressor, and RandomForestRegressor\n",
    "# cat_model = CatBoostRegressor(iterations=1500, depth=10, learning_rate=0.05, loss_function='RMSE', random_seed=42, verbose=False)\n",
    "# xgb_model = XGBRegressor(n_estimators=1500, max_depth=10, learning_rate=0.05, objective='reg:squarederror', random_state=42, verbosity=0)\n",
    "# lgb_model = lgb.LGBMRegressor(n_estimators=1500, max_depth=10, learning_rate=0.05, objective='regression', random_state=42)\n",
    "# rf_model = RandomForestRegressor(n_estimators=1500, max_depth=10, random_state=42)\n",
    "\n",
    "# # Create a list of base models\n",
    "# base_models = [('cat', cat_model), ('xgb', xgb_model), ('lgb', lgb_model), ('rf', rf_model)]\n",
    "\n",
    "# # Create an instance of VotingRegressor with multiple base models\n",
    "# voting_model = VotingRegressor(base_models)\n",
    "\n",
    "# kf = KFold(n_splits=5, shuffle=True, random_state=42)\n",
    "\n",
    "# predictions = np.zeros(len(forest))\n",
    "\n",
    "# for train_index, test_index in kf.split(forest):\n",
    "#     X_train, X_test = forest.iloc[train_index], forest.iloc[test_index]\n",
    "#     y_train, y_test = y.iloc[train_index], y.iloc[test_index]\n",
    "\n",
    "#     voting_model.fit(X_train, y_train)\n",
    "#     fold_preds = voting_model.predict(X_test)\n",
    "#     fold_r2 = r2_score(y_test, fold_preds)\n",
    "#     print(f\"R2 Score for this fold: {fold_r2}\")\n",
    "\n",
    "#     predictions[test_index] += fold_preds\n",
    "\n",
    "# final_r2 = r2_score(y, predictions)\n",
    "# print(f\"\\nOverall R2 Score: {final_r2}\")"
   ]
  },
  {
   "cell_type": "code",
   "execution_count": 36,
   "id": "1f445fd2",
   "metadata": {
    "execution": {
     "iopub.execute_input": "2024-01-17T23:03:02.822052Z",
     "iopub.status.busy": "2024-01-17T23:03:02.821235Z",
     "iopub.status.idle": "2024-01-17T23:03:02.826713Z",
     "shell.execute_reply": "2024-01-17T23:03:02.825374Z"
    },
    "papermill": {
     "duration": 0.037168,
     "end_time": "2024-01-17T23:03:02.829323",
     "exception": false,
     "start_time": "2024-01-17T23:03:02.792155",
     "status": "completed"
    },
    "tags": []
   },
   "outputs": [],
   "source": [
    "# from sklearn.ensemble import BaggingRegressor\n",
    "# from xgboost import XGBRegressor\n",
    "# from catboost import CatBoostRegressor\n",
    "\n",
    "# bagging_model = BaggingRegressor(cat_model, n_estimators=10, random_state=42)\n",
    "\n",
    "# kf = KFold(n_splits=5, shuffle=True, random_state=42)\n",
    "\n",
    "# predictions = np.zeros(len(forest))\n",
    "\n",
    "# for train_index, test_index in kf.split(forest):\n",
    "#     X_train, X_test = forest.iloc[train_index], forest.iloc[test_index]\n",
    "#     y_train, y_test = y.iloc[train_index], y.iloc[test_index]\n",
    "\n",
    "#     bagging_model.fit(X_train, y_train)\n",
    "#     fold_preds = bagging_model.predict(X_test)\n",
    "#     fold_r2 = r2_score(y_test, fold_preds)\n",
    "#     print(f\"R2 Score for this fold: {fold_r2}\")\n",
    "\n",
    "#     predictions[test_index] += fold_preds\n",
    "\n",
    "# final_r2 = r2_score(y, predictions)\n",
    "# print(f\"\\nOverall R2 Score: {final_r2}\")"
   ]
  },
  {
   "cell_type": "code",
   "execution_count": 37,
   "id": "054bc6f3",
   "metadata": {
    "execution": {
     "iopub.execute_input": "2024-01-17T23:03:02.885140Z",
     "iopub.status.busy": "2024-01-17T23:03:02.884325Z",
     "iopub.status.idle": "2024-01-17T23:03:02.888776Z",
     "shell.execute_reply": "2024-01-17T23:03:02.887825Z"
    },
    "papermill": {
     "duration": 0.035182,
     "end_time": "2024-01-17T23:03:02.891718",
     "exception": false,
     "start_time": "2024-01-17T23:03:02.856536",
     "status": "completed"
    },
    "tags": []
   },
   "outputs": [],
   "source": [
    "# cat_model.save_model('/kaggle/working/output_model.cbm', format=\"cbm\",export_parameters=None, pool=None)"
   ]
  }
 ],
 "metadata": {
  "colab": {
   "authorship_tag": "ABX9TyMZxmDvy2ypAS3vB1TCQEE1",
   "collapsed_sections": [],
   "name": "Forest Fires.ipynb",
   "provenance": []
  },
  "kaggle": {
   "accelerator": "none",
   "dataSources": [
    {
     "datasetId": 473032,
     "sourceId": 886975,
     "sourceType": "datasetVersion"
    }
   ],
   "dockerImageVersionId": 30635,
   "isGpuEnabled": false,
   "isInternetEnabled": true,
   "language": "python",
   "sourceType": "notebook"
  },
  "kernelspec": {
   "display_name": "Python 3",
   "language": "python",
   "name": "python3"
  },
  "language_info": {
   "codemirror_mode": {
    "name": "ipython",
    "version": 3
   },
   "file_extension": ".py",
   "mimetype": "text/x-python",
   "name": "python",
   "nbconvert_exporter": "python",
   "pygments_lexer": "ipython3",
   "version": "3.10.12"
  },
  "papermill": {
   "default_parameters": {},
   "duration": 293.454893,
   "end_time": "2024-01-17T23:03:03.942497",
   "environment_variables": {},
   "exception": null,
   "input_path": "__notebook__.ipynb",
   "output_path": "__notebook__.ipynb",
   "parameters": {},
   "start_time": "2024-01-17T22:58:10.487604",
   "version": "2.4.0"
  },
  "varInspector": {
   "cols": {
    "lenName": 16,
    "lenType": 16,
    "lenVar": 40
   },
   "kernels_config": {
    "python": {
     "delete_cmd_postfix": "",
     "delete_cmd_prefix": "del ",
     "library": "var_list.py",
     "varRefreshCmd": "print(var_dic_list())"
    },
    "r": {
     "delete_cmd_postfix": ") ",
     "delete_cmd_prefix": "rm(",
     "library": "var_list.r",
     "varRefreshCmd": "cat(var_dic_list()) "
    }
   },
   "types_to_exclude": [
    "module",
    "function",
    "builtin_function_or_method",
    "instance",
    "_Feature"
   ],
   "window_display": false
  }
 },
 "nbformat": 4,
 "nbformat_minor": 5
}
